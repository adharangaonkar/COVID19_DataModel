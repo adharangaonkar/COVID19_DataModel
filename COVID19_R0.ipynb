{
  "nbformat": 4,
  "nbformat_minor": 0,
  "metadata": {
    "colab": {
      "name": "COVID19_R0.ipynb",
      "provenance": [],
      "collapsed_sections": []
    },
    "kernelspec": {
      "name": "python3",
      "display_name": "Python 3"
    }
  },
  "cells": [
    {
      "cell_type": "markdown",
      "metadata": {
        "id": "RXvdH-oy3Z9f",
        "colab_type": "text"
      },
      "source": [
        "We evaluate a possible range for the infectivity, or $R_0$, of the Coronavirus Covid19. Specifically, we focus on how to extrapolate existing data from China in order to get a complete dataset that we can use for estimation.\n",
        "\n",
        "We need to keep in mind that $R_0$ is not an absolute metric, it is one based on the virus as much as the society it infects. So different countries may experience distinct $R_0$s for the same epidemic. This notebook is a framework for estimating $R_0$ from data."
      ]
    },
    {
      "cell_type": "markdown",
      "metadata": {
        "id": "X8dOD0n63heZ",
        "colab_type": "text"
      },
      "source": [
        "#Data from China"
      ]
    },
    {
      "cell_type": "markdown",
      "metadata": {
        "id": "Qc4ycwFA3vhR",
        "colab_type": "text"
      },
      "source": [
        "This website is a result of good citizenship: People posting real data that can help other people do science, learn from mistakes, and fare better.\n",
        "\n",
        "Let's download this data, import DXYArea.csv as a pandas dataframe, and plot some interesting plots."
      ]
    },
    {
      "cell_type": "code",
      "metadata": {
        "id": "gywZ2kzj3u7Z",
        "colab_type": "code",
        "colab": {
          "base_uri": "https://localhost:8080/",
          "height": 52
        },
        "outputId": "e7f18273-3752-4d73-d509-5665017a72f6"
      },
      "source": [
        "import numpy as np\n",
        "import pandas as pd\n",
        "import matplotlib.pyplot as plt\n",
        "import seaborn as sns"
      ],
      "execution_count": 4,
      "outputs": [
        {
          "output_type": "stream",
          "text": [
            "/usr/local/lib/python3.6/dist-packages/statsmodels/tools/_testing.py:19: FutureWarning: pandas.util.testing is deprecated. Use the functions in the public API at pandas.testing instead.\n",
            "  import pandas.util.testing as tm\n"
          ],
          "name": "stderr"
        }
      ]
    },
    {
      "cell_type": "code",
      "metadata": {
        "id": "sHKneOhH34y3",
        "colab_type": "code",
        "colab": {
          "resources": {
            "http://localhost:8080/nbextensions/google.colab/files.js": {
              "data": "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",
              "ok": true,
              "headers": [
                [
                  "content-type",
                  "application/javascript"
                ]
              ],
              "status": 200,
              "status_text": ""
            }
          },
          "base_uri": "https://localhost:8080/",
          "height": 74
        },
        "outputId": "8c15daee-8e3a-498a-91c1-11bed356798d"
      },
      "source": [
        "from google.colab import files\n",
        "uploaded = files.upload()\n"
      ],
      "execution_count": 5,
      "outputs": [
        {
          "output_type": "display_data",
          "data": {
            "text/html": [
              "\n",
              "     <input type=\"file\" id=\"files-1f531236-8c75-4ae5-baea-4c691dca7a33\" name=\"files[]\" multiple disabled />\n",
              "     <output id=\"result-1f531236-8c75-4ae5-baea-4c691dca7a33\">\n",
              "      Upload widget is only available when the cell has been executed in the\n",
              "      current browser session. Please rerun this cell to enable.\n",
              "      </output>\n",
              "      <script src=\"/nbextensions/google.colab/files.js\"></script> "
            ],
            "text/plain": [
              "<IPython.core.display.HTML object>"
            ]
          },
          "metadata": {
            "tags": []
          }
        },
        {
          "output_type": "stream",
          "text": [
            "Saving DXYArea.csv to DXYArea.csv\n"
          ],
          "name": "stdout"
        }
      ]
    },
    {
      "cell_type": "code",
      "metadata": {
        "id": "1vucJmwH4Jsa",
        "colab_type": "code",
        "colab": {
          "base_uri": "https://localhost:8080/",
          "height": 1000
        },
        "outputId": "2ff6257c-ed35-4679-c46f-ace95d2a955a"
      },
      "source": [
        "covid19_china = pd.read_csv('DXYArea.csv')\n",
        "covid19_china.head(20)"
      ],
      "execution_count": 7,
      "outputs": [
        {
          "output_type": "execute_result",
          "data": {
            "text/html": [
              "<div>\n",
              "<style scoped>\n",
              "    .dataframe tbody tr th:only-of-type {\n",
              "        vertical-align: middle;\n",
              "    }\n",
              "\n",
              "    .dataframe tbody tr th {\n",
              "        vertical-align: top;\n",
              "    }\n",
              "\n",
              "    .dataframe thead th {\n",
              "        text-align: right;\n",
              "    }\n",
              "</style>\n",
              "<table border=\"1\" class=\"dataframe\">\n",
              "  <thead>\n",
              "    <tr style=\"text-align: right;\">\n",
              "      <th></th>\n",
              "      <th>continentName</th>\n",
              "      <th>continentEnglishName</th>\n",
              "      <th>countryName</th>\n",
              "      <th>countryEnglishName</th>\n",
              "      <th>provinceName</th>\n",
              "      <th>provinceEnglishName</th>\n",
              "      <th>province_zipCode</th>\n",
              "      <th>province_confirmedCount</th>\n",
              "      <th>province_suspectedCount</th>\n",
              "      <th>province_curedCount</th>\n",
              "      <th>province_deadCount</th>\n",
              "      <th>updateTime</th>\n",
              "      <th>cityName</th>\n",
              "      <th>cityEnglishName</th>\n",
              "      <th>city_zipCode</th>\n",
              "      <th>city_confirmedCount</th>\n",
              "      <th>city_suspectedCount</th>\n",
              "      <th>city_curedCount</th>\n",
              "      <th>city_deadCount</th>\n",
              "    </tr>\n",
              "  </thead>\n",
              "  <tbody>\n",
              "    <tr>\n",
              "      <th>0</th>\n",
              "      <td>亚洲</td>\n",
              "      <td>Asia</td>\n",
              "      <td>约旦</td>\n",
              "      <td>Jordan</td>\n",
              "      <td>约旦</td>\n",
              "      <td>Jordan</td>\n",
              "      <td>955010</td>\n",
              "      <td>53</td>\n",
              "      <td>0.0</td>\n",
              "      <td>1</td>\n",
              "      <td>0</td>\n",
              "      <td>2020-03-19 00:31:40</td>\n",
              "      <td>NaN</td>\n",
              "      <td>NaN</td>\n",
              "      <td>NaN</td>\n",
              "      <td>NaN</td>\n",
              "      <td>NaN</td>\n",
              "      <td>NaN</td>\n",
              "      <td>NaN</td>\n",
              "    </tr>\n",
              "    <tr>\n",
              "      <th>1</th>\n",
              "      <td>亚洲</td>\n",
              "      <td>Asia</td>\n",
              "      <td>越南</td>\n",
              "      <td>Vietnam</td>\n",
              "      <td>越南</td>\n",
              "      <td>Vietnam</td>\n",
              "      <td>952011</td>\n",
              "      <td>75</td>\n",
              "      <td>0.0</td>\n",
              "      <td>16</td>\n",
              "      <td>0</td>\n",
              "      <td>2020-03-19 00:16:32</td>\n",
              "      <td>NaN</td>\n",
              "      <td>NaN</td>\n",
              "      <td>NaN</td>\n",
              "      <td>NaN</td>\n",
              "      <td>NaN</td>\n",
              "      <td>NaN</td>\n",
              "      <td>NaN</td>\n",
              "    </tr>\n",
              "    <tr>\n",
              "      <th>2</th>\n",
              "      <td>亚洲</td>\n",
              "      <td>Asia</td>\n",
              "      <td>巴基斯坦</td>\n",
              "      <td>Pakistan</td>\n",
              "      <td>巴基斯坦</td>\n",
              "      <td>Pakistan</td>\n",
              "      <td>953006</td>\n",
              "      <td>289</td>\n",
              "      <td>0.0</td>\n",
              "      <td>1</td>\n",
              "      <td>0</td>\n",
              "      <td>2020-03-19 00:12:14</td>\n",
              "      <td>NaN</td>\n",
              "      <td>NaN</td>\n",
              "      <td>NaN</td>\n",
              "      <td>NaN</td>\n",
              "      <td>NaN</td>\n",
              "      <td>NaN</td>\n",
              "      <td>NaN</td>\n",
              "    </tr>\n",
              "    <tr>\n",
              "      <th>3</th>\n",
              "      <td>北美洲</td>\n",
              "      <td>North America</td>\n",
              "      <td>古巴</td>\n",
              "      <td>Cuba</td>\n",
              "      <td>古巴</td>\n",
              "      <td>Cuba</td>\n",
              "      <td>974004</td>\n",
              "      <td>10</td>\n",
              "      <td>0.0</td>\n",
              "      <td>0</td>\n",
              "      <td>1</td>\n",
              "      <td>2020-03-19 00:09:02</td>\n",
              "      <td>NaN</td>\n",
              "      <td>NaN</td>\n",
              "      <td>NaN</td>\n",
              "      <td>NaN</td>\n",
              "      <td>NaN</td>\n",
              "      <td>NaN</td>\n",
              "      <td>NaN</td>\n",
              "    </tr>\n",
              "    <tr>\n",
              "      <th>4</th>\n",
              "      <td>亚洲</td>\n",
              "      <td>Asia</td>\n",
              "      <td>巴勒斯坦</td>\n",
              "      <td>Palestine</td>\n",
              "      <td>巴勒斯坦</td>\n",
              "      <td>Palestine</td>\n",
              "      <td>955014</td>\n",
              "      <td>44</td>\n",
              "      <td>0.0</td>\n",
              "      <td>0</td>\n",
              "      <td>0</td>\n",
              "      <td>2020-03-19 00:05:48</td>\n",
              "      <td>NaN</td>\n",
              "      <td>NaN</td>\n",
              "      <td>NaN</td>\n",
              "      <td>NaN</td>\n",
              "      <td>NaN</td>\n",
              "      <td>NaN</td>\n",
              "      <td>NaN</td>\n",
              "    </tr>\n",
              "    <tr>\n",
              "      <th>5</th>\n",
              "      <td>欧洲</td>\n",
              "      <td>Europe</td>\n",
              "      <td>西班牙</td>\n",
              "      <td>Spain</td>\n",
              "      <td>西班牙</td>\n",
              "      <td>Spain</td>\n",
              "      <td>965015</td>\n",
              "      <td>13716</td>\n",
              "      <td>0.0</td>\n",
              "      <td>1081</td>\n",
              "      <td>598</td>\n",
              "      <td>2020-03-19 00:00:24</td>\n",
              "      <td>NaN</td>\n",
              "      <td>NaN</td>\n",
              "      <td>NaN</td>\n",
              "      <td>NaN</td>\n",
              "      <td>NaN</td>\n",
              "      <td>NaN</td>\n",
              "      <td>NaN</td>\n",
              "    </tr>\n",
              "    <tr>\n",
              "      <th>6</th>\n",
              "      <td>欧洲</td>\n",
              "      <td>Europe</td>\n",
              "      <td>德国</td>\n",
              "      <td>Germany</td>\n",
              "      <td>德国</td>\n",
              "      <td>Germany</td>\n",
              "      <td>963003</td>\n",
              "      <td>11312</td>\n",
              "      <td>0.0</td>\n",
              "      <td>135</td>\n",
              "      <td>26</td>\n",
              "      <td>2020-03-19 00:00:24</td>\n",
              "      <td>NaN</td>\n",
              "      <td>NaN</td>\n",
              "      <td>NaN</td>\n",
              "      <td>NaN</td>\n",
              "      <td>NaN</td>\n",
              "      <td>NaN</td>\n",
              "      <td>NaN</td>\n",
              "    </tr>\n",
              "    <tr>\n",
              "      <th>7</th>\n",
              "      <td>亚洲</td>\n",
              "      <td>Asia</td>\n",
              "      <td>伊朗</td>\n",
              "      <td>Iran</td>\n",
              "      <td>伊朗</td>\n",
              "      <td>Iran</td>\n",
              "      <td>955007</td>\n",
              "      <td>17361</td>\n",
              "      <td>0.0</td>\n",
              "      <td>5710</td>\n",
              "      <td>1135</td>\n",
              "      <td>2020-03-19 00:00:24</td>\n",
              "      <td>NaN</td>\n",
              "      <td>NaN</td>\n",
              "      <td>NaN</td>\n",
              "      <td>NaN</td>\n",
              "      <td>NaN</td>\n",
              "      <td>NaN</td>\n",
              "      <td>NaN</td>\n",
              "    </tr>\n",
              "    <tr>\n",
              "      <th>8</th>\n",
              "      <td>北美洲</td>\n",
              "      <td>North America</td>\n",
              "      <td>美国</td>\n",
              "      <td>United States of America</td>\n",
              "      <td>美国</td>\n",
              "      <td>United States of America</td>\n",
              "      <td>971002</td>\n",
              "      <td>7111</td>\n",
              "      <td>0.0</td>\n",
              "      <td>74</td>\n",
              "      <td>117</td>\n",
              "      <td>2020-03-19 00:00:24</td>\n",
              "      <td>NaN</td>\n",
              "      <td>NaN</td>\n",
              "      <td>NaN</td>\n",
              "      <td>NaN</td>\n",
              "      <td>NaN</td>\n",
              "      <td>NaN</td>\n",
              "      <td>NaN</td>\n",
              "    </tr>\n",
              "    <tr>\n",
              "      <th>9</th>\n",
              "      <td>亚洲</td>\n",
              "      <td>Asia</td>\n",
              "      <td>韩国</td>\n",
              "      <td>Korea</td>\n",
              "      <td>韩国</td>\n",
              "      <td>Korea</td>\n",
              "      <td>951004</td>\n",
              "      <td>8413</td>\n",
              "      <td>0.0</td>\n",
              "      <td>1540</td>\n",
              "      <td>84</td>\n",
              "      <td>2020-03-19 00:00:24</td>\n",
              "      <td>NaN</td>\n",
              "      <td>NaN</td>\n",
              "      <td>NaN</td>\n",
              "      <td>NaN</td>\n",
              "      <td>NaN</td>\n",
              "      <td>NaN</td>\n",
              "      <td>NaN</td>\n",
              "    </tr>\n",
              "    <tr>\n",
              "      <th>10</th>\n",
              "      <td>欧洲</td>\n",
              "      <td>Europe</td>\n",
              "      <td>英国</td>\n",
              "      <td>United Kingdom</td>\n",
              "      <td>英国</td>\n",
              "      <td>United Kingdom</td>\n",
              "      <td>961007</td>\n",
              "      <td>2626</td>\n",
              "      <td>0.0</td>\n",
              "      <td>52</td>\n",
              "      <td>60</td>\n",
              "      <td>2020-03-19 00:00:24</td>\n",
              "      <td>NaN</td>\n",
              "      <td>NaN</td>\n",
              "      <td>NaN</td>\n",
              "      <td>NaN</td>\n",
              "      <td>NaN</td>\n",
              "      <td>NaN</td>\n",
              "      <td>NaN</td>\n",
              "    </tr>\n",
              "    <tr>\n",
              "      <th>11</th>\n",
              "      <td>欧洲</td>\n",
              "      <td>Europe</td>\n",
              "      <td>比利时</td>\n",
              "      <td>Belgium</td>\n",
              "      <td>比利时</td>\n",
              "      <td>Belgium</td>\n",
              "      <td>961001</td>\n",
              "      <td>1486</td>\n",
              "      <td>0.0</td>\n",
              "      <td>1</td>\n",
              "      <td>14</td>\n",
              "      <td>2020-03-19 00:00:24</td>\n",
              "      <td>NaN</td>\n",
              "      <td>NaN</td>\n",
              "      <td>NaN</td>\n",
              "      <td>NaN</td>\n",
              "      <td>NaN</td>\n",
              "      <td>NaN</td>\n",
              "      <td>NaN</td>\n",
              "    </tr>\n",
              "    <tr>\n",
              "      <th>12</th>\n",
              "      <td>欧洲</td>\n",
              "      <td>Europe</td>\n",
              "      <td>挪威</td>\n",
              "      <td>Norway</td>\n",
              "      <td>挪威</td>\n",
              "      <td>Norway</td>\n",
              "      <td>962004</td>\n",
              "      <td>1452</td>\n",
              "      <td>0.0</td>\n",
              "      <td>0</td>\n",
              "      <td>3</td>\n",
              "      <td>2020-03-19 00:00:24</td>\n",
              "      <td>NaN</td>\n",
              "      <td>NaN</td>\n",
              "      <td>NaN</td>\n",
              "      <td>NaN</td>\n",
              "      <td>NaN</td>\n",
              "      <td>NaN</td>\n",
              "      <td>NaN</td>\n",
              "    </tr>\n",
              "    <tr>\n",
              "      <th>13</th>\n",
              "      <td>欧洲</td>\n",
              "      <td>Europe</td>\n",
              "      <td>奥地利</td>\n",
              "      <td>Austria</td>\n",
              "      <td>奥地利</td>\n",
              "      <td>Austria</td>\n",
              "      <td>963001</td>\n",
              "      <td>1332</td>\n",
              "      <td>0.0</td>\n",
              "      <td>6</td>\n",
              "      <td>3</td>\n",
              "      <td>2020-03-19 00:00:24</td>\n",
              "      <td>NaN</td>\n",
              "      <td>NaN</td>\n",
              "      <td>NaN</td>\n",
              "      <td>NaN</td>\n",
              "      <td>NaN</td>\n",
              "      <td>NaN</td>\n",
              "      <td>NaN</td>\n",
              "    </tr>\n",
              "    <tr>\n",
              "      <th>14</th>\n",
              "      <td>亚洲</td>\n",
              "      <td>Asia</td>\n",
              "      <td>日本</td>\n",
              "      <td>Japan</td>\n",
              "      <td>日本</td>\n",
              "      <td>Japan</td>\n",
              "      <td>951002</td>\n",
              "      <td>919</td>\n",
              "      <td>0.0</td>\n",
              "      <td>157</td>\n",
              "      <td>31</td>\n",
              "      <td>2020-03-19 00:00:24</td>\n",
              "      <td>NaN</td>\n",
              "      <td>NaN</td>\n",
              "      <td>NaN</td>\n",
              "      <td>NaN</td>\n",
              "      <td>NaN</td>\n",
              "      <td>NaN</td>\n",
              "      <td>NaN</td>\n",
              "    </tr>\n",
              "    <tr>\n",
              "      <th>15</th>\n",
              "      <td>亚洲</td>\n",
              "      <td>Asia</td>\n",
              "      <td>马来西亚</td>\n",
              "      <td>Malaysia</td>\n",
              "      <td>马来西亚</td>\n",
              "      <td>Malaysia</td>\n",
              "      <td>952007</td>\n",
              "      <td>790</td>\n",
              "      <td>0.0</td>\n",
              "      <td>60</td>\n",
              "      <td>2</td>\n",
              "      <td>2020-03-19 00:00:24</td>\n",
              "      <td>NaN</td>\n",
              "      <td>NaN</td>\n",
              "      <td>NaN</td>\n",
              "      <td>NaN</td>\n",
              "      <td>NaN</td>\n",
              "      <td>NaN</td>\n",
              "      <td>NaN</td>\n",
              "    </tr>\n",
              "    <tr>\n",
              "      <th>16</th>\n",
              "      <td>北美洲</td>\n",
              "      <td>North America</td>\n",
              "      <td>加拿大</td>\n",
              "      <td>Canada</td>\n",
              "      <td>加拿大</td>\n",
              "      <td>Canada</td>\n",
              "      <td>971001</td>\n",
              "      <td>595</td>\n",
              "      <td>0.0</td>\n",
              "      <td>10</td>\n",
              "      <td>8</td>\n",
              "      <td>2020-03-19 00:00:24</td>\n",
              "      <td>NaN</td>\n",
              "      <td>NaN</td>\n",
              "      <td>NaN</td>\n",
              "      <td>NaN</td>\n",
              "      <td>NaN</td>\n",
              "      <td>NaN</td>\n",
              "      <td>NaN</td>\n",
              "    </tr>\n",
              "    <tr>\n",
              "      <th>17</th>\n",
              "      <td>大洋洲</td>\n",
              "      <td>Oceania</td>\n",
              "      <td>澳大利亚</td>\n",
              "      <td>Australia</td>\n",
              "      <td>澳大利亚</td>\n",
              "      <td>Australia</td>\n",
              "      <td>990001</td>\n",
              "      <td>556</td>\n",
              "      <td>0.0</td>\n",
              "      <td>27</td>\n",
              "      <td>5</td>\n",
              "      <td>2020-03-19 00:00:24</td>\n",
              "      <td>NaN</td>\n",
              "      <td>NaN</td>\n",
              "      <td>NaN</td>\n",
              "      <td>NaN</td>\n",
              "      <td>NaN</td>\n",
              "      <td>NaN</td>\n",
              "      <td>NaN</td>\n",
              "    </tr>\n",
              "    <tr>\n",
              "      <th>18</th>\n",
              "      <td>亚洲</td>\n",
              "      <td>Asia</td>\n",
              "      <td>以色列</td>\n",
              "      <td>Israel</td>\n",
              "      <td>以色列</td>\n",
              "      <td>Israel</td>\n",
              "      <td>955009</td>\n",
              "      <td>433</td>\n",
              "      <td>0.0</td>\n",
              "      <td>5</td>\n",
              "      <td>0</td>\n",
              "      <td>2020-03-19 00:00:24</td>\n",
              "      <td>NaN</td>\n",
              "      <td>NaN</td>\n",
              "      <td>NaN</td>\n",
              "      <td>NaN</td>\n",
              "      <td>NaN</td>\n",
              "      <td>NaN</td>\n",
              "      <td>NaN</td>\n",
              "    </tr>\n",
              "    <tr>\n",
              "      <th>19</th>\n",
              "      <td>南美洲</td>\n",
              "      <td>South America</td>\n",
              "      <td>巴西</td>\n",
              "      <td>Brazil</td>\n",
              "      <td>巴西</td>\n",
              "      <td>Brazil</td>\n",
              "      <td>973003</td>\n",
              "      <td>291</td>\n",
              "      <td>0.0</td>\n",
              "      <td>0</td>\n",
              "      <td>1</td>\n",
              "      <td>2020-03-19 00:00:24</td>\n",
              "      <td>NaN</td>\n",
              "      <td>NaN</td>\n",
              "      <td>NaN</td>\n",
              "      <td>NaN</td>\n",
              "      <td>NaN</td>\n",
              "      <td>NaN</td>\n",
              "      <td>NaN</td>\n",
              "    </tr>\n",
              "  </tbody>\n",
              "</table>\n",
              "</div>"
            ],
            "text/plain": [
              "   continentName continentEnglishName  ... city_curedCount city_deadCount\n",
              "0             亚洲                 Asia  ...             NaN            NaN\n",
              "1             亚洲                 Asia  ...             NaN            NaN\n",
              "2             亚洲                 Asia  ...             NaN            NaN\n",
              "3            北美洲        North America  ...             NaN            NaN\n",
              "4             亚洲                 Asia  ...             NaN            NaN\n",
              "5             欧洲               Europe  ...             NaN            NaN\n",
              "6             欧洲               Europe  ...             NaN            NaN\n",
              "7             亚洲                 Asia  ...             NaN            NaN\n",
              "8            北美洲        North America  ...             NaN            NaN\n",
              "9             亚洲                 Asia  ...             NaN            NaN\n",
              "10            欧洲               Europe  ...             NaN            NaN\n",
              "11            欧洲               Europe  ...             NaN            NaN\n",
              "12            欧洲               Europe  ...             NaN            NaN\n",
              "13            欧洲               Europe  ...             NaN            NaN\n",
              "14            亚洲                 Asia  ...             NaN            NaN\n",
              "15            亚洲                 Asia  ...             NaN            NaN\n",
              "16           北美洲        North America  ...             NaN            NaN\n",
              "17           大洋洲              Oceania  ...             NaN            NaN\n",
              "18            亚洲                 Asia  ...             NaN            NaN\n",
              "19           南美洲        South America  ...             NaN            NaN\n",
              "\n",
              "[20 rows x 19 columns]"
            ]
          },
          "metadata": {
            "tags": []
          },
          "execution_count": 7
        }
      ]
    },
    {
      "cell_type": "markdown",
      "metadata": {
        "id": "PYTJv8214oHY",
        "colab_type": "text"
      },
      "source": [
        "We will drop the columns which do not have any significance with our study"
      ]
    },
    {
      "cell_type": "code",
      "metadata": {
        "id": "wcx8UOs94bmE",
        "colab_type": "code",
        "colab": {
          "base_uri": "https://localhost:8080/",
          "height": 1000
        },
        "outputId": "c5da2b8d-61a9-468f-97d2-a3022083bffd"
      },
      "source": [
        "covid19_china.drop(['province_suspectedCount', 'city_suspectedCount', 'province_zipCode', 'city_zipCode'], axis=1, inplace=True)\n",
        "covid19_china.head(20)"
      ],
      "execution_count": 8,
      "outputs": [
        {
          "output_type": "execute_result",
          "data": {
            "text/html": [
              "<div>\n",
              "<style scoped>\n",
              "    .dataframe tbody tr th:only-of-type {\n",
              "        vertical-align: middle;\n",
              "    }\n",
              "\n",
              "    .dataframe tbody tr th {\n",
              "        vertical-align: top;\n",
              "    }\n",
              "\n",
              "    .dataframe thead th {\n",
              "        text-align: right;\n",
              "    }\n",
              "</style>\n",
              "<table border=\"1\" class=\"dataframe\">\n",
              "  <thead>\n",
              "    <tr style=\"text-align: right;\">\n",
              "      <th></th>\n",
              "      <th>continentName</th>\n",
              "      <th>continentEnglishName</th>\n",
              "      <th>countryName</th>\n",
              "      <th>countryEnglishName</th>\n",
              "      <th>provinceName</th>\n",
              "      <th>provinceEnglishName</th>\n",
              "      <th>province_confirmedCount</th>\n",
              "      <th>province_curedCount</th>\n",
              "      <th>province_deadCount</th>\n",
              "      <th>updateTime</th>\n",
              "      <th>cityName</th>\n",
              "      <th>cityEnglishName</th>\n",
              "      <th>city_confirmedCount</th>\n",
              "      <th>city_curedCount</th>\n",
              "      <th>city_deadCount</th>\n",
              "    </tr>\n",
              "  </thead>\n",
              "  <tbody>\n",
              "    <tr>\n",
              "      <th>0</th>\n",
              "      <td>亚洲</td>\n",
              "      <td>Asia</td>\n",
              "      <td>约旦</td>\n",
              "      <td>Jordan</td>\n",
              "      <td>约旦</td>\n",
              "      <td>Jordan</td>\n",
              "      <td>53</td>\n",
              "      <td>1</td>\n",
              "      <td>0</td>\n",
              "      <td>2020-03-19 00:31:40</td>\n",
              "      <td>NaN</td>\n",
              "      <td>NaN</td>\n",
              "      <td>NaN</td>\n",
              "      <td>NaN</td>\n",
              "      <td>NaN</td>\n",
              "    </tr>\n",
              "    <tr>\n",
              "      <th>1</th>\n",
              "      <td>亚洲</td>\n",
              "      <td>Asia</td>\n",
              "      <td>越南</td>\n",
              "      <td>Vietnam</td>\n",
              "      <td>越南</td>\n",
              "      <td>Vietnam</td>\n",
              "      <td>75</td>\n",
              "      <td>16</td>\n",
              "      <td>0</td>\n",
              "      <td>2020-03-19 00:16:32</td>\n",
              "      <td>NaN</td>\n",
              "      <td>NaN</td>\n",
              "      <td>NaN</td>\n",
              "      <td>NaN</td>\n",
              "      <td>NaN</td>\n",
              "    </tr>\n",
              "    <tr>\n",
              "      <th>2</th>\n",
              "      <td>亚洲</td>\n",
              "      <td>Asia</td>\n",
              "      <td>巴基斯坦</td>\n",
              "      <td>Pakistan</td>\n",
              "      <td>巴基斯坦</td>\n",
              "      <td>Pakistan</td>\n",
              "      <td>289</td>\n",
              "      <td>1</td>\n",
              "      <td>0</td>\n",
              "      <td>2020-03-19 00:12:14</td>\n",
              "      <td>NaN</td>\n",
              "      <td>NaN</td>\n",
              "      <td>NaN</td>\n",
              "      <td>NaN</td>\n",
              "      <td>NaN</td>\n",
              "    </tr>\n",
              "    <tr>\n",
              "      <th>3</th>\n",
              "      <td>北美洲</td>\n",
              "      <td>North America</td>\n",
              "      <td>古巴</td>\n",
              "      <td>Cuba</td>\n",
              "      <td>古巴</td>\n",
              "      <td>Cuba</td>\n",
              "      <td>10</td>\n",
              "      <td>0</td>\n",
              "      <td>1</td>\n",
              "      <td>2020-03-19 00:09:02</td>\n",
              "      <td>NaN</td>\n",
              "      <td>NaN</td>\n",
              "      <td>NaN</td>\n",
              "      <td>NaN</td>\n",
              "      <td>NaN</td>\n",
              "    </tr>\n",
              "    <tr>\n",
              "      <th>4</th>\n",
              "      <td>亚洲</td>\n",
              "      <td>Asia</td>\n",
              "      <td>巴勒斯坦</td>\n",
              "      <td>Palestine</td>\n",
              "      <td>巴勒斯坦</td>\n",
              "      <td>Palestine</td>\n",
              "      <td>44</td>\n",
              "      <td>0</td>\n",
              "      <td>0</td>\n",
              "      <td>2020-03-19 00:05:48</td>\n",
              "      <td>NaN</td>\n",
              "      <td>NaN</td>\n",
              "      <td>NaN</td>\n",
              "      <td>NaN</td>\n",
              "      <td>NaN</td>\n",
              "    </tr>\n",
              "    <tr>\n",
              "      <th>5</th>\n",
              "      <td>欧洲</td>\n",
              "      <td>Europe</td>\n",
              "      <td>西班牙</td>\n",
              "      <td>Spain</td>\n",
              "      <td>西班牙</td>\n",
              "      <td>Spain</td>\n",
              "      <td>13716</td>\n",
              "      <td>1081</td>\n",
              "      <td>598</td>\n",
              "      <td>2020-03-19 00:00:24</td>\n",
              "      <td>NaN</td>\n",
              "      <td>NaN</td>\n",
              "      <td>NaN</td>\n",
              "      <td>NaN</td>\n",
              "      <td>NaN</td>\n",
              "    </tr>\n",
              "    <tr>\n",
              "      <th>6</th>\n",
              "      <td>欧洲</td>\n",
              "      <td>Europe</td>\n",
              "      <td>德国</td>\n",
              "      <td>Germany</td>\n",
              "      <td>德国</td>\n",
              "      <td>Germany</td>\n",
              "      <td>11312</td>\n",
              "      <td>135</td>\n",
              "      <td>26</td>\n",
              "      <td>2020-03-19 00:00:24</td>\n",
              "      <td>NaN</td>\n",
              "      <td>NaN</td>\n",
              "      <td>NaN</td>\n",
              "      <td>NaN</td>\n",
              "      <td>NaN</td>\n",
              "    </tr>\n",
              "    <tr>\n",
              "      <th>7</th>\n",
              "      <td>亚洲</td>\n",
              "      <td>Asia</td>\n",
              "      <td>伊朗</td>\n",
              "      <td>Iran</td>\n",
              "      <td>伊朗</td>\n",
              "      <td>Iran</td>\n",
              "      <td>17361</td>\n",
              "      <td>5710</td>\n",
              "      <td>1135</td>\n",
              "      <td>2020-03-19 00:00:24</td>\n",
              "      <td>NaN</td>\n",
              "      <td>NaN</td>\n",
              "      <td>NaN</td>\n",
              "      <td>NaN</td>\n",
              "      <td>NaN</td>\n",
              "    </tr>\n",
              "    <tr>\n",
              "      <th>8</th>\n",
              "      <td>北美洲</td>\n",
              "      <td>North America</td>\n",
              "      <td>美国</td>\n",
              "      <td>United States of America</td>\n",
              "      <td>美国</td>\n",
              "      <td>United States of America</td>\n",
              "      <td>7111</td>\n",
              "      <td>74</td>\n",
              "      <td>117</td>\n",
              "      <td>2020-03-19 00:00:24</td>\n",
              "      <td>NaN</td>\n",
              "      <td>NaN</td>\n",
              "      <td>NaN</td>\n",
              "      <td>NaN</td>\n",
              "      <td>NaN</td>\n",
              "    </tr>\n",
              "    <tr>\n",
              "      <th>9</th>\n",
              "      <td>亚洲</td>\n",
              "      <td>Asia</td>\n",
              "      <td>韩国</td>\n",
              "      <td>Korea</td>\n",
              "      <td>韩国</td>\n",
              "      <td>Korea</td>\n",
              "      <td>8413</td>\n",
              "      <td>1540</td>\n",
              "      <td>84</td>\n",
              "      <td>2020-03-19 00:00:24</td>\n",
              "      <td>NaN</td>\n",
              "      <td>NaN</td>\n",
              "      <td>NaN</td>\n",
              "      <td>NaN</td>\n",
              "      <td>NaN</td>\n",
              "    </tr>\n",
              "    <tr>\n",
              "      <th>10</th>\n",
              "      <td>欧洲</td>\n",
              "      <td>Europe</td>\n",
              "      <td>英国</td>\n",
              "      <td>United Kingdom</td>\n",
              "      <td>英国</td>\n",
              "      <td>United Kingdom</td>\n",
              "      <td>2626</td>\n",
              "      <td>52</td>\n",
              "      <td>60</td>\n",
              "      <td>2020-03-19 00:00:24</td>\n",
              "      <td>NaN</td>\n",
              "      <td>NaN</td>\n",
              "      <td>NaN</td>\n",
              "      <td>NaN</td>\n",
              "      <td>NaN</td>\n",
              "    </tr>\n",
              "    <tr>\n",
              "      <th>11</th>\n",
              "      <td>欧洲</td>\n",
              "      <td>Europe</td>\n",
              "      <td>比利时</td>\n",
              "      <td>Belgium</td>\n",
              "      <td>比利时</td>\n",
              "      <td>Belgium</td>\n",
              "      <td>1486</td>\n",
              "      <td>1</td>\n",
              "      <td>14</td>\n",
              "      <td>2020-03-19 00:00:24</td>\n",
              "      <td>NaN</td>\n",
              "      <td>NaN</td>\n",
              "      <td>NaN</td>\n",
              "      <td>NaN</td>\n",
              "      <td>NaN</td>\n",
              "    </tr>\n",
              "    <tr>\n",
              "      <th>12</th>\n",
              "      <td>欧洲</td>\n",
              "      <td>Europe</td>\n",
              "      <td>挪威</td>\n",
              "      <td>Norway</td>\n",
              "      <td>挪威</td>\n",
              "      <td>Norway</td>\n",
              "      <td>1452</td>\n",
              "      <td>0</td>\n",
              "      <td>3</td>\n",
              "      <td>2020-03-19 00:00:24</td>\n",
              "      <td>NaN</td>\n",
              "      <td>NaN</td>\n",
              "      <td>NaN</td>\n",
              "      <td>NaN</td>\n",
              "      <td>NaN</td>\n",
              "    </tr>\n",
              "    <tr>\n",
              "      <th>13</th>\n",
              "      <td>欧洲</td>\n",
              "      <td>Europe</td>\n",
              "      <td>奥地利</td>\n",
              "      <td>Austria</td>\n",
              "      <td>奥地利</td>\n",
              "      <td>Austria</td>\n",
              "      <td>1332</td>\n",
              "      <td>6</td>\n",
              "      <td>3</td>\n",
              "      <td>2020-03-19 00:00:24</td>\n",
              "      <td>NaN</td>\n",
              "      <td>NaN</td>\n",
              "      <td>NaN</td>\n",
              "      <td>NaN</td>\n",
              "      <td>NaN</td>\n",
              "    </tr>\n",
              "    <tr>\n",
              "      <th>14</th>\n",
              "      <td>亚洲</td>\n",
              "      <td>Asia</td>\n",
              "      <td>日本</td>\n",
              "      <td>Japan</td>\n",
              "      <td>日本</td>\n",
              "      <td>Japan</td>\n",
              "      <td>919</td>\n",
              "      <td>157</td>\n",
              "      <td>31</td>\n",
              "      <td>2020-03-19 00:00:24</td>\n",
              "      <td>NaN</td>\n",
              "      <td>NaN</td>\n",
              "      <td>NaN</td>\n",
              "      <td>NaN</td>\n",
              "      <td>NaN</td>\n",
              "    </tr>\n",
              "    <tr>\n",
              "      <th>15</th>\n",
              "      <td>亚洲</td>\n",
              "      <td>Asia</td>\n",
              "      <td>马来西亚</td>\n",
              "      <td>Malaysia</td>\n",
              "      <td>马来西亚</td>\n",
              "      <td>Malaysia</td>\n",
              "      <td>790</td>\n",
              "      <td>60</td>\n",
              "      <td>2</td>\n",
              "      <td>2020-03-19 00:00:24</td>\n",
              "      <td>NaN</td>\n",
              "      <td>NaN</td>\n",
              "      <td>NaN</td>\n",
              "      <td>NaN</td>\n",
              "      <td>NaN</td>\n",
              "    </tr>\n",
              "    <tr>\n",
              "      <th>16</th>\n",
              "      <td>北美洲</td>\n",
              "      <td>North America</td>\n",
              "      <td>加拿大</td>\n",
              "      <td>Canada</td>\n",
              "      <td>加拿大</td>\n",
              "      <td>Canada</td>\n",
              "      <td>595</td>\n",
              "      <td>10</td>\n",
              "      <td>8</td>\n",
              "      <td>2020-03-19 00:00:24</td>\n",
              "      <td>NaN</td>\n",
              "      <td>NaN</td>\n",
              "      <td>NaN</td>\n",
              "      <td>NaN</td>\n",
              "      <td>NaN</td>\n",
              "    </tr>\n",
              "    <tr>\n",
              "      <th>17</th>\n",
              "      <td>大洋洲</td>\n",
              "      <td>Oceania</td>\n",
              "      <td>澳大利亚</td>\n",
              "      <td>Australia</td>\n",
              "      <td>澳大利亚</td>\n",
              "      <td>Australia</td>\n",
              "      <td>556</td>\n",
              "      <td>27</td>\n",
              "      <td>5</td>\n",
              "      <td>2020-03-19 00:00:24</td>\n",
              "      <td>NaN</td>\n",
              "      <td>NaN</td>\n",
              "      <td>NaN</td>\n",
              "      <td>NaN</td>\n",
              "      <td>NaN</td>\n",
              "    </tr>\n",
              "    <tr>\n",
              "      <th>18</th>\n",
              "      <td>亚洲</td>\n",
              "      <td>Asia</td>\n",
              "      <td>以色列</td>\n",
              "      <td>Israel</td>\n",
              "      <td>以色列</td>\n",
              "      <td>Israel</td>\n",
              "      <td>433</td>\n",
              "      <td>5</td>\n",
              "      <td>0</td>\n",
              "      <td>2020-03-19 00:00:24</td>\n",
              "      <td>NaN</td>\n",
              "      <td>NaN</td>\n",
              "      <td>NaN</td>\n",
              "      <td>NaN</td>\n",
              "      <td>NaN</td>\n",
              "    </tr>\n",
              "    <tr>\n",
              "      <th>19</th>\n",
              "      <td>南美洲</td>\n",
              "      <td>South America</td>\n",
              "      <td>巴西</td>\n",
              "      <td>Brazil</td>\n",
              "      <td>巴西</td>\n",
              "      <td>Brazil</td>\n",
              "      <td>291</td>\n",
              "      <td>0</td>\n",
              "      <td>1</td>\n",
              "      <td>2020-03-19 00:00:24</td>\n",
              "      <td>NaN</td>\n",
              "      <td>NaN</td>\n",
              "      <td>NaN</td>\n",
              "      <td>NaN</td>\n",
              "      <td>NaN</td>\n",
              "    </tr>\n",
              "  </tbody>\n",
              "</table>\n",
              "</div>"
            ],
            "text/plain": [
              "   continentName continentEnglishName  ... city_curedCount city_deadCount\n",
              "0             亚洲                 Asia  ...             NaN            NaN\n",
              "1             亚洲                 Asia  ...             NaN            NaN\n",
              "2             亚洲                 Asia  ...             NaN            NaN\n",
              "3            北美洲        North America  ...             NaN            NaN\n",
              "4             亚洲                 Asia  ...             NaN            NaN\n",
              "5             欧洲               Europe  ...             NaN            NaN\n",
              "6             欧洲               Europe  ...             NaN            NaN\n",
              "7             亚洲                 Asia  ...             NaN            NaN\n",
              "8            北美洲        North America  ...             NaN            NaN\n",
              "9             亚洲                 Asia  ...             NaN            NaN\n",
              "10            欧洲               Europe  ...             NaN            NaN\n",
              "11            欧洲               Europe  ...             NaN            NaN\n",
              "12            欧洲               Europe  ...             NaN            NaN\n",
              "13            欧洲               Europe  ...             NaN            NaN\n",
              "14            亚洲                 Asia  ...             NaN            NaN\n",
              "15            亚洲                 Asia  ...             NaN            NaN\n",
              "16           北美洲        North America  ...             NaN            NaN\n",
              "17           大洋洲              Oceania  ...             NaN            NaN\n",
              "18            亚洲                 Asia  ...             NaN            NaN\n",
              "19           南美洲        South America  ...             NaN            NaN\n",
              "\n",
              "[20 rows x 15 columns]"
            ]
          },
          "metadata": {
            "tags": []
          },
          "execution_count": 8
        }
      ]
    },
    {
      "cell_type": "code",
      "metadata": {
        "id": "cZq0bIC65FRZ",
        "colab_type": "code",
        "colab": {
          "base_uri": "https://localhost:8080/",
          "height": 34
        },
        "outputId": "37d590e7-82a4-48d8-a6e0-2538ae404bad"
      },
      "source": [
        "len(covid19_china)"
      ],
      "execution_count": 10,
      "outputs": [
        {
          "output_type": "execute_result",
          "data": {
            "text/plain": [
              "83827"
            ]
          },
          "metadata": {
            "tags": []
          },
          "execution_count": 10
        }
      ]
    },
    {
      "cell_type": "code",
      "metadata": {
        "id": "5B8o-TZL4wDY",
        "colab_type": "code",
        "colab": {
          "base_uri": "https://localhost:8080/",
          "height": 34
        },
        "outputId": "5b2303fe-9e3b-4ef2-af42-a6500d6b3894"
      },
      "source": [
        "covid19_china = covid19_china[covid19_china['countryEnglishName'] == 'China']\n",
        "len(covid19_china)"
      ],
      "execution_count": 14,
      "outputs": [
        {
          "output_type": "execute_result",
          "data": {
            "text/plain": [
              "71717"
            ]
          },
          "metadata": {
            "tags": []
          },
          "execution_count": 14
        }
      ]
    },
    {
      "cell_type": "code",
      "metadata": {
        "id": "QAhwOe6O5M6o",
        "colab_type": "code",
        "colab": {
          "base_uri": "https://localhost:8080/",
          "height": 1000
        },
        "outputId": "e29e1485-2ef8-47e5-e0fc-043c73065e45"
      },
      "source": [
        "covid19_china.head(20)"
      ],
      "execution_count": 15,
      "outputs": [
        {
          "output_type": "execute_result",
          "data": {
            "text/html": [
              "<div>\n",
              "<style scoped>\n",
              "    .dataframe tbody tr th:only-of-type {\n",
              "        vertical-align: middle;\n",
              "    }\n",
              "\n",
              "    .dataframe tbody tr th {\n",
              "        vertical-align: top;\n",
              "    }\n",
              "\n",
              "    .dataframe thead th {\n",
              "        text-align: right;\n",
              "    }\n",
              "</style>\n",
              "<table border=\"1\" class=\"dataframe\">\n",
              "  <thead>\n",
              "    <tr style=\"text-align: right;\">\n",
              "      <th></th>\n",
              "      <th>continentName</th>\n",
              "      <th>continentEnglishName</th>\n",
              "      <th>countryName</th>\n",
              "      <th>countryEnglishName</th>\n",
              "      <th>provinceName</th>\n",
              "      <th>provinceEnglishName</th>\n",
              "      <th>province_confirmedCount</th>\n",
              "      <th>province_curedCount</th>\n",
              "      <th>province_deadCount</th>\n",
              "      <th>updateTime</th>\n",
              "      <th>cityName</th>\n",
              "      <th>cityEnglishName</th>\n",
              "      <th>city_confirmedCount</th>\n",
              "      <th>city_curedCount</th>\n",
              "      <th>city_deadCount</th>\n",
              "    </tr>\n",
              "  </thead>\n",
              "  <tbody>\n",
              "    <tr>\n",
              "      <th>149</th>\n",
              "      <td>亚洲</td>\n",
              "      <td>Asia</td>\n",
              "      <td>中国</td>\n",
              "      <td>China</td>\n",
              "      <td>湖北省</td>\n",
              "      <td>Hubei</td>\n",
              "      <td>67800</td>\n",
              "      <td>56927</td>\n",
              "      <td>3122</td>\n",
              "      <td>2020-03-18 22:16:04</td>\n",
              "      <td>武汉</td>\n",
              "      <td>Wuhan</td>\n",
              "      <td>50005.0</td>\n",
              "      <td>40073.0</td>\n",
              "      <td>2490.0</td>\n",
              "    </tr>\n",
              "    <tr>\n",
              "      <th>150</th>\n",
              "      <td>亚洲</td>\n",
              "      <td>Asia</td>\n",
              "      <td>中国</td>\n",
              "      <td>China</td>\n",
              "      <td>湖北省</td>\n",
              "      <td>Hubei</td>\n",
              "      <td>67800</td>\n",
              "      <td>56927</td>\n",
              "      <td>3122</td>\n",
              "      <td>2020-03-18 22:16:04</td>\n",
              "      <td>孝感</td>\n",
              "      <td>Xiaogan</td>\n",
              "      <td>3518.0</td>\n",
              "      <td>3297.0</td>\n",
              "      <td>128.0</td>\n",
              "    </tr>\n",
              "    <tr>\n",
              "      <th>151</th>\n",
              "      <td>亚洲</td>\n",
              "      <td>Asia</td>\n",
              "      <td>中国</td>\n",
              "      <td>China</td>\n",
              "      <td>湖北省</td>\n",
              "      <td>Hubei</td>\n",
              "      <td>67800</td>\n",
              "      <td>56927</td>\n",
              "      <td>3122</td>\n",
              "      <td>2020-03-18 22:16:04</td>\n",
              "      <td>鄂州</td>\n",
              "      <td>Ezhou</td>\n",
              "      <td>1394.0</td>\n",
              "      <td>1290.0</td>\n",
              "      <td>57.0</td>\n",
              "    </tr>\n",
              "    <tr>\n",
              "      <th>152</th>\n",
              "      <td>亚洲</td>\n",
              "      <td>Asia</td>\n",
              "      <td>中国</td>\n",
              "      <td>China</td>\n",
              "      <td>湖北省</td>\n",
              "      <td>Hubei</td>\n",
              "      <td>67800</td>\n",
              "      <td>56927</td>\n",
              "      <td>3122</td>\n",
              "      <td>2020-03-18 22:16:04</td>\n",
              "      <td>随州</td>\n",
              "      <td>Suizhou</td>\n",
              "      <td>1307.0</td>\n",
              "      <td>1222.0</td>\n",
              "      <td>45.0</td>\n",
              "    </tr>\n",
              "    <tr>\n",
              "      <th>153</th>\n",
              "      <td>亚洲</td>\n",
              "      <td>Asia</td>\n",
              "      <td>中国</td>\n",
              "      <td>China</td>\n",
              "      <td>湖北省</td>\n",
              "      <td>Hubei</td>\n",
              "      <td>67800</td>\n",
              "      <td>56927</td>\n",
              "      <td>3122</td>\n",
              "      <td>2020-03-18 22:16:04</td>\n",
              "      <td>荆州</td>\n",
              "      <td>Jingzhou</td>\n",
              "      <td>1580.0</td>\n",
              "      <td>1499.0</td>\n",
              "      <td>50.0</td>\n",
              "    </tr>\n",
              "    <tr>\n",
              "      <th>154</th>\n",
              "      <td>亚洲</td>\n",
              "      <td>Asia</td>\n",
              "      <td>中国</td>\n",
              "      <td>China</td>\n",
              "      <td>湖北省</td>\n",
              "      <td>Hubei</td>\n",
              "      <td>67800</td>\n",
              "      <td>56927</td>\n",
              "      <td>3122</td>\n",
              "      <td>2020-03-18 22:16:04</td>\n",
              "      <td>荆门</td>\n",
              "      <td>Jingmen</td>\n",
              "      <td>928.0</td>\n",
              "      <td>870.0</td>\n",
              "      <td>39.0</td>\n",
              "    </tr>\n",
              "    <tr>\n",
              "      <th>155</th>\n",
              "      <td>亚洲</td>\n",
              "      <td>Asia</td>\n",
              "      <td>中国</td>\n",
              "      <td>China</td>\n",
              "      <td>湖北省</td>\n",
              "      <td>Hubei</td>\n",
              "      <td>67800</td>\n",
              "      <td>56927</td>\n",
              "      <td>3122</td>\n",
              "      <td>2020-03-18 22:16:04</td>\n",
              "      <td>十堰</td>\n",
              "      <td>Shiyan</td>\n",
              "      <td>672.0</td>\n",
              "      <td>645.0</td>\n",
              "      <td>8.0</td>\n",
              "    </tr>\n",
              "    <tr>\n",
              "      <th>156</th>\n",
              "      <td>亚洲</td>\n",
              "      <td>Asia</td>\n",
              "      <td>中国</td>\n",
              "      <td>China</td>\n",
              "      <td>湖北省</td>\n",
              "      <td>Hubei</td>\n",
              "      <td>67800</td>\n",
              "      <td>56927</td>\n",
              "      <td>3122</td>\n",
              "      <td>2020-03-18 22:16:04</td>\n",
              "      <td>仙桃</td>\n",
              "      <td>Xiantao</td>\n",
              "      <td>575.0</td>\n",
              "      <td>535.0</td>\n",
              "      <td>22.0</td>\n",
              "    </tr>\n",
              "    <tr>\n",
              "      <th>157</th>\n",
              "      <td>亚洲</td>\n",
              "      <td>Asia</td>\n",
              "      <td>中国</td>\n",
              "      <td>China</td>\n",
              "      <td>湖北省</td>\n",
              "      <td>Hubei</td>\n",
              "      <td>67800</td>\n",
              "      <td>56927</td>\n",
              "      <td>3122</td>\n",
              "      <td>2020-03-18 22:16:04</td>\n",
              "      <td>黄石</td>\n",
              "      <td>Huangshi</td>\n",
              "      <td>1015.0</td>\n",
              "      <td>963.0</td>\n",
              "      <td>38.0</td>\n",
              "    </tr>\n",
              "    <tr>\n",
              "      <th>158</th>\n",
              "      <td>亚洲</td>\n",
              "      <td>Asia</td>\n",
              "      <td>中国</td>\n",
              "      <td>China</td>\n",
              "      <td>湖北省</td>\n",
              "      <td>Hubei</td>\n",
              "      <td>67800</td>\n",
              "      <td>56927</td>\n",
              "      <td>3122</td>\n",
              "      <td>2020-03-18 22:16:04</td>\n",
              "      <td>宜昌</td>\n",
              "      <td>Yichang</td>\n",
              "      <td>931.0</td>\n",
              "      <td>881.0</td>\n",
              "      <td>36.0</td>\n",
              "    </tr>\n",
              "    <tr>\n",
              "      <th>159</th>\n",
              "      <td>亚洲</td>\n",
              "      <td>Asia</td>\n",
              "      <td>中国</td>\n",
              "      <td>China</td>\n",
              "      <td>湖北省</td>\n",
              "      <td>Hubei</td>\n",
              "      <td>67800</td>\n",
              "      <td>56927</td>\n",
              "      <td>3122</td>\n",
              "      <td>2020-03-18 22:16:04</td>\n",
              "      <td>襄阳</td>\n",
              "      <td>Xiangyang</td>\n",
              "      <td>1175.0</td>\n",
              "      <td>1131.0</td>\n",
              "      <td>38.0</td>\n",
              "    </tr>\n",
              "    <tr>\n",
              "      <th>160</th>\n",
              "      <td>亚洲</td>\n",
              "      <td>Asia</td>\n",
              "      <td>中国</td>\n",
              "      <td>China</td>\n",
              "      <td>湖北省</td>\n",
              "      <td>Hubei</td>\n",
              "      <td>67800</td>\n",
              "      <td>56927</td>\n",
              "      <td>3122</td>\n",
              "      <td>2020-03-18 22:16:04</td>\n",
              "      <td>潜江</td>\n",
              "      <td>Qianjiang</td>\n",
              "      <td>198.0</td>\n",
              "      <td>184.0</td>\n",
              "      <td>9.0</td>\n",
              "    </tr>\n",
              "    <tr>\n",
              "      <th>161</th>\n",
              "      <td>亚洲</td>\n",
              "      <td>Asia</td>\n",
              "      <td>中国</td>\n",
              "      <td>China</td>\n",
              "      <td>湖北省</td>\n",
              "      <td>Hubei</td>\n",
              "      <td>67800</td>\n",
              "      <td>56927</td>\n",
              "      <td>3122</td>\n",
              "      <td>2020-03-18 22:16:04</td>\n",
              "      <td>天门</td>\n",
              "      <td>Tianmen</td>\n",
              "      <td>496.0</td>\n",
              "      <td>478.0</td>\n",
              "      <td>15.0</td>\n",
              "    </tr>\n",
              "    <tr>\n",
              "      <th>162</th>\n",
              "      <td>亚洲</td>\n",
              "      <td>Asia</td>\n",
              "      <td>中国</td>\n",
              "      <td>China</td>\n",
              "      <td>湖北省</td>\n",
              "      <td>Hubei</td>\n",
              "      <td>67800</td>\n",
              "      <td>56927</td>\n",
              "      <td>3122</td>\n",
              "      <td>2020-03-18 22:16:04</td>\n",
              "      <td>黄冈</td>\n",
              "      <td>Huanggang</td>\n",
              "      <td>2907.0</td>\n",
              "      <td>2782.0</td>\n",
              "      <td>125.0</td>\n",
              "    </tr>\n",
              "    <tr>\n",
              "      <th>163</th>\n",
              "      <td>亚洲</td>\n",
              "      <td>Asia</td>\n",
              "      <td>中国</td>\n",
              "      <td>China</td>\n",
              "      <td>湖北省</td>\n",
              "      <td>Hubei</td>\n",
              "      <td>67800</td>\n",
              "      <td>56927</td>\n",
              "      <td>3122</td>\n",
              "      <td>2020-03-18 22:16:04</td>\n",
              "      <td>咸宁</td>\n",
              "      <td>Xianning</td>\n",
              "      <td>836.0</td>\n",
              "      <td>821.0</td>\n",
              "      <td>15.0</td>\n",
              "    </tr>\n",
              "    <tr>\n",
              "      <th>164</th>\n",
              "      <td>亚洲</td>\n",
              "      <td>Asia</td>\n",
              "      <td>中国</td>\n",
              "      <td>China</td>\n",
              "      <td>湖北省</td>\n",
              "      <td>Hubei</td>\n",
              "      <td>67800</td>\n",
              "      <td>56927</td>\n",
              "      <td>3122</td>\n",
              "      <td>2020-03-18 22:16:04</td>\n",
              "      <td>恩施州</td>\n",
              "      <td>Enshi Tujia and Miao Autonomous Prefecture</td>\n",
              "      <td>252.0</td>\n",
              "      <td>245.0</td>\n",
              "      <td>7.0</td>\n",
              "    </tr>\n",
              "    <tr>\n",
              "      <th>165</th>\n",
              "      <td>亚洲</td>\n",
              "      <td>Asia</td>\n",
              "      <td>中国</td>\n",
              "      <td>China</td>\n",
              "      <td>湖北省</td>\n",
              "      <td>Hubei</td>\n",
              "      <td>67800</td>\n",
              "      <td>56927</td>\n",
              "      <td>3122</td>\n",
              "      <td>2020-03-18 22:16:04</td>\n",
              "      <td>神农架林区</td>\n",
              "      <td>Shennongjia</td>\n",
              "      <td>11.0</td>\n",
              "      <td>11.0</td>\n",
              "      <td>0.0</td>\n",
              "    </tr>\n",
              "    <tr>\n",
              "      <th>166</th>\n",
              "      <td>亚洲</td>\n",
              "      <td>Asia</td>\n",
              "      <td>中国</td>\n",
              "      <td>China</td>\n",
              "      <td>澳门</td>\n",
              "      <td>Macau</td>\n",
              "      <td>15</td>\n",
              "      <td>10</td>\n",
              "      <td>0</td>\n",
              "      <td>2020-03-18 22:16:04</td>\n",
              "      <td>NaN</td>\n",
              "      <td>NaN</td>\n",
              "      <td>NaN</td>\n",
              "      <td>NaN</td>\n",
              "      <td>NaN</td>\n",
              "    </tr>\n",
              "    <tr>\n",
              "      <th>170</th>\n",
              "      <td>亚洲</td>\n",
              "      <td>Asia</td>\n",
              "      <td>中国</td>\n",
              "      <td>China</td>\n",
              "      <td>中国</td>\n",
              "      <td>China</td>\n",
              "      <td>81202</td>\n",
              "      <td>69777</td>\n",
              "      <td>3242</td>\n",
              "      <td>2020-03-18 22:16:04</td>\n",
              "      <td>NaN</td>\n",
              "      <td>NaN</td>\n",
              "      <td>NaN</td>\n",
              "      <td>NaN</td>\n",
              "      <td>NaN</td>\n",
              "    </tr>\n",
              "    <tr>\n",
              "      <th>233</th>\n",
              "      <td>亚洲</td>\n",
              "      <td>Asia</td>\n",
              "      <td>中国</td>\n",
              "      <td>China</td>\n",
              "      <td>香港</td>\n",
              "      <td>Hong Kong</td>\n",
              "      <td>181</td>\n",
              "      <td>92</td>\n",
              "      <td>4</td>\n",
              "      <td>2020-03-18 17:14:30</td>\n",
              "      <td>NaN</td>\n",
              "      <td>NaN</td>\n",
              "      <td>NaN</td>\n",
              "      <td>NaN</td>\n",
              "      <td>NaN</td>\n",
              "    </tr>\n",
              "  </tbody>\n",
              "</table>\n",
              "</div>"
            ],
            "text/plain": [
              "    continentName continentEnglishName  ... city_curedCount city_deadCount\n",
              "149            亚洲                 Asia  ...         40073.0         2490.0\n",
              "150            亚洲                 Asia  ...          3297.0          128.0\n",
              "151            亚洲                 Asia  ...          1290.0           57.0\n",
              "152            亚洲                 Asia  ...          1222.0           45.0\n",
              "153            亚洲                 Asia  ...          1499.0           50.0\n",
              "154            亚洲                 Asia  ...           870.0           39.0\n",
              "155            亚洲                 Asia  ...           645.0            8.0\n",
              "156            亚洲                 Asia  ...           535.0           22.0\n",
              "157            亚洲                 Asia  ...           963.0           38.0\n",
              "158            亚洲                 Asia  ...           881.0           36.0\n",
              "159            亚洲                 Asia  ...          1131.0           38.0\n",
              "160            亚洲                 Asia  ...           184.0            9.0\n",
              "161            亚洲                 Asia  ...           478.0           15.0\n",
              "162            亚洲                 Asia  ...          2782.0          125.0\n",
              "163            亚洲                 Asia  ...           821.0           15.0\n",
              "164            亚洲                 Asia  ...           245.0            7.0\n",
              "165            亚洲                 Asia  ...            11.0            0.0\n",
              "166            亚洲                 Asia  ...             NaN            NaN\n",
              "170            亚洲                 Asia  ...             NaN            NaN\n",
              "233            亚洲                 Asia  ...             NaN            NaN\n",
              "\n",
              "[20 rows x 15 columns]"
            ]
          },
          "metadata": {
            "tags": []
          },
          "execution_count": 15
        }
      ]
    },
    {
      "cell_type": "markdown",
      "metadata": {
        "id": "osTuybfD6AJH",
        "colab_type": "text"
      },
      "source": [
        "Data Cleaning by dropping the Nan values\n",
        "\n"
      ]
    },
    {
      "cell_type": "code",
      "metadata": {
        "id": "6ehLspP958yy",
        "colab_type": "code",
        "colab": {}
      },
      "source": [
        "covid19_china = covid19_china.dropna()"
      ],
      "execution_count": 0,
      "outputs": []
    },
    {
      "cell_type": "code",
      "metadata": {
        "id": "lDevbeQ55zfn",
        "colab_type": "code",
        "colab": {
          "base_uri": "https://localhost:8080/",
          "height": 34
        },
        "outputId": "28f9bd77-47fc-447b-aad9-c875de108f33"
      },
      "source": [
        "len(covid19_china)"
      ],
      "execution_count": 18,
      "outputs": [
        {
          "output_type": "execute_result",
          "data": {
            "text/plain": [
              "69707"
            ]
          },
          "metadata": {
            "tags": []
          },
          "execution_count": 18
        }
      ]
    },
    {
      "cell_type": "markdown",
      "metadata": {
        "id": "zm63UAah6OpH",
        "colab_type": "text"
      },
      "source": [
        "Get all the city names"
      ]
    },
    {
      "cell_type": "code",
      "metadata": {
        "id": "MpnmyynC6MCG",
        "colab_type": "code",
        "colab": {
          "base_uri": "https://localhost:8080/",
          "height": 52
        },
        "outputId": "afcae971-b45e-4536-a516-7b4bf11feeec"
      },
      "source": [
        "china_cities = covid19_china['cityEnglishName'].values\n",
        "china_cities"
      ],
      "execution_count": 19,
      "outputs": [
        {
          "output_type": "execute_result",
          "data": {
            "text/plain": [
              "array(['Wuhan', 'Xiaogan', 'Ezhou', ..., 'Changchun', 'Shijiazhuang',\n",
              "       'Yinchuan'], dtype=object)"
            ]
          },
          "metadata": {
            "tags": []
          },
          "execution_count": 19
        }
      ]
    },
    {
      "cell_type": "markdown",
      "metadata": {
        "id": "ncbRwGzj7JW3",
        "colab_type": "text"
      },
      "source": [
        "We will primarily look for the city of Wuhan as it was the epicenter of the Pandemic\n",
        "\n",
        "We will also set the index to be the update time of the observation"
      ]
    },
    {
      "cell_type": "code",
      "metadata": {
        "id": "bgYlTAIg8FWT",
        "colab_type": "code",
        "colab": {
          "base_uri": "https://localhost:8080/",
          "height": 593
        },
        "outputId": "7fc441b0-b040-4ced-bfe2-b3a9d1fed35b"
      },
      "source": [
        "covid19_wuhan = covid19_china[covid19_china[\"cityEnglishName\"] == \"Wuhan\"]\n",
        "covid19_wuhan"
      ],
      "execution_count": 22,
      "outputs": [
        {
          "output_type": "execute_result",
          "data": {
            "text/html": [
              "<div>\n",
              "<style scoped>\n",
              "    .dataframe tbody tr th:only-of-type {\n",
              "        vertical-align: middle;\n",
              "    }\n",
              "\n",
              "    .dataframe tbody tr th {\n",
              "        vertical-align: top;\n",
              "    }\n",
              "\n",
              "    .dataframe thead th {\n",
              "        text-align: right;\n",
              "    }\n",
              "</style>\n",
              "<table border=\"1\" class=\"dataframe\">\n",
              "  <thead>\n",
              "    <tr style=\"text-align: right;\">\n",
              "      <th></th>\n",
              "      <th>continentName</th>\n",
              "      <th>continentEnglishName</th>\n",
              "      <th>countryName</th>\n",
              "      <th>countryEnglishName</th>\n",
              "      <th>provinceName</th>\n",
              "      <th>provinceEnglishName</th>\n",
              "      <th>province_confirmedCount</th>\n",
              "      <th>province_curedCount</th>\n",
              "      <th>province_deadCount</th>\n",
              "      <th>updateTime</th>\n",
              "      <th>cityName</th>\n",
              "      <th>cityEnglishName</th>\n",
              "      <th>city_confirmedCount</th>\n",
              "      <th>city_curedCount</th>\n",
              "      <th>city_deadCount</th>\n",
              "    </tr>\n",
              "  </thead>\n",
              "  <tbody>\n",
              "    <tr>\n",
              "      <th>149</th>\n",
              "      <td>亚洲</td>\n",
              "      <td>Asia</td>\n",
              "      <td>中国</td>\n",
              "      <td>China</td>\n",
              "      <td>湖北省</td>\n",
              "      <td>Hubei</td>\n",
              "      <td>67800</td>\n",
              "      <td>56927</td>\n",
              "      <td>3122</td>\n",
              "      <td>2020-03-18 22:16:04</td>\n",
              "      <td>武汉</td>\n",
              "      <td>Wuhan</td>\n",
              "      <td>50005.0</td>\n",
              "      <td>40073.0</td>\n",
              "      <td>2490.0</td>\n",
              "    </tr>\n",
              "    <tr>\n",
              "      <th>478</th>\n",
              "      <td>亚洲</td>\n",
              "      <td>Asia</td>\n",
              "      <td>中国</td>\n",
              "      <td>China</td>\n",
              "      <td>湖北省</td>\n",
              "      <td>Hubei</td>\n",
              "      <td>67800</td>\n",
              "      <td>56886</td>\n",
              "      <td>3122</td>\n",
              "      <td>2020-03-18 12:12:22</td>\n",
              "      <td>武汉</td>\n",
              "      <td>Wuhan</td>\n",
              "      <td>50005.0</td>\n",
              "      <td>40032.0</td>\n",
              "      <td>2490.0</td>\n",
              "    </tr>\n",
              "    <tr>\n",
              "      <th>497</th>\n",
              "      <td>亚洲</td>\n",
              "      <td>Asia</td>\n",
              "      <td>中国</td>\n",
              "      <td>China</td>\n",
              "      <td>湖北省</td>\n",
              "      <td>Hubei</td>\n",
              "      <td>67800</td>\n",
              "      <td>56885</td>\n",
              "      <td>3122</td>\n",
              "      <td>2020-03-18 12:11:15</td>\n",
              "      <td>武汉</td>\n",
              "      <td>Wuhan</td>\n",
              "      <td>50005.0</td>\n",
              "      <td>40032.0</td>\n",
              "      <td>2490.0</td>\n",
              "    </tr>\n",
              "    <tr>\n",
              "      <th>1325</th>\n",
              "      <td>亚洲</td>\n",
              "      <td>Asia</td>\n",
              "      <td>中国</td>\n",
              "      <td>China</td>\n",
              "      <td>湖北省</td>\n",
              "      <td>Hubei</td>\n",
              "      <td>67800</td>\n",
              "      <td>56883</td>\n",
              "      <td>3122</td>\n",
              "      <td>2020-03-18 09:19:13</td>\n",
              "      <td>武汉</td>\n",
              "      <td>Wuhan</td>\n",
              "      <td>50004.0</td>\n",
              "      <td>39220.0</td>\n",
              "      <td>2480.0</td>\n",
              "    </tr>\n",
              "    <tr>\n",
              "      <th>2095</th>\n",
              "      <td>亚洲</td>\n",
              "      <td>Asia</td>\n",
              "      <td>中国</td>\n",
              "      <td>China</td>\n",
              "      <td>湖北省</td>\n",
              "      <td>Hubei</td>\n",
              "      <td>67799</td>\n",
              "      <td>56003</td>\n",
              "      <td>3111</td>\n",
              "      <td>2020-03-17 19:47:01</td>\n",
              "      <td>武汉</td>\n",
              "      <td>Wuhan</td>\n",
              "      <td>50004.0</td>\n",
              "      <td>39220.0</td>\n",
              "      <td>2480.0</td>\n",
              "    </tr>\n",
              "    <tr>\n",
              "      <th>...</th>\n",
              "      <td>...</td>\n",
              "      <td>...</td>\n",
              "      <td>...</td>\n",
              "      <td>...</td>\n",
              "      <td>...</td>\n",
              "      <td>...</td>\n",
              "      <td>...</td>\n",
              "      <td>...</td>\n",
              "      <td>...</td>\n",
              "      <td>...</td>\n",
              "      <td>...</td>\n",
              "      <td>...</td>\n",
              "      <td>...</td>\n",
              "      <td>...</td>\n",
              "      <td>...</td>\n",
              "    </tr>\n",
              "    <tr>\n",
              "      <th>83125</th>\n",
              "      <td>亚洲</td>\n",
              "      <td>Asia</td>\n",
              "      <td>中国</td>\n",
              "      <td>China</td>\n",
              "      <td>湖北省</td>\n",
              "      <td>Hubei</td>\n",
              "      <td>549</td>\n",
              "      <td>0</td>\n",
              "      <td>0</td>\n",
              "      <td>2020-01-24 11:49:48</td>\n",
              "      <td>武汉</td>\n",
              "      <td>Wuhan</td>\n",
              "      <td>495.0</td>\n",
              "      <td>0.0</td>\n",
              "      <td>0.0</td>\n",
              "    </tr>\n",
              "    <tr>\n",
              "      <th>83382</th>\n",
              "      <td>亚洲</td>\n",
              "      <td>Asia</td>\n",
              "      <td>中国</td>\n",
              "      <td>China</td>\n",
              "      <td>湖北省</td>\n",
              "      <td>Hubei</td>\n",
              "      <td>549</td>\n",
              "      <td>0</td>\n",
              "      <td>0</td>\n",
              "      <td>2020-01-24 09:50:40</td>\n",
              "      <td>武汉</td>\n",
              "      <td>Wuhan</td>\n",
              "      <td>495.0</td>\n",
              "      <td>0.0</td>\n",
              "      <td>0.0</td>\n",
              "    </tr>\n",
              "    <tr>\n",
              "      <th>83390</th>\n",
              "      <td>亚洲</td>\n",
              "      <td>Asia</td>\n",
              "      <td>中国</td>\n",
              "      <td>China</td>\n",
              "      <td>湖北省</td>\n",
              "      <td>Hubei</td>\n",
              "      <td>549</td>\n",
              "      <td>0</td>\n",
              "      <td>0</td>\n",
              "      <td>2020-01-24 09:49:39</td>\n",
              "      <td>武汉</td>\n",
              "      <td>Wuhan</td>\n",
              "      <td>495.0</td>\n",
              "      <td>0.0</td>\n",
              "      <td>0.0</td>\n",
              "    </tr>\n",
              "    <tr>\n",
              "      <th>83396</th>\n",
              "      <td>亚洲</td>\n",
              "      <td>Asia</td>\n",
              "      <td>中国</td>\n",
              "      <td>China</td>\n",
              "      <td>湖北省</td>\n",
              "      <td>Hubei</td>\n",
              "      <td>549</td>\n",
              "      <td>0</td>\n",
              "      <td>0</td>\n",
              "      <td>2020-01-24 09:48:39</td>\n",
              "      <td>武汉</td>\n",
              "      <td>Wuhan</td>\n",
              "      <td>495.0</td>\n",
              "      <td>0.0</td>\n",
              "      <td>0.0</td>\n",
              "    </tr>\n",
              "    <tr>\n",
              "      <th>83400</th>\n",
              "      <td>亚洲</td>\n",
              "      <td>Asia</td>\n",
              "      <td>中国</td>\n",
              "      <td>China</td>\n",
              "      <td>湖北省</td>\n",
              "      <td>Hubei</td>\n",
              "      <td>549</td>\n",
              "      <td>0</td>\n",
              "      <td>0</td>\n",
              "      <td>2020-01-24 09:47:38</td>\n",
              "      <td>武汉</td>\n",
              "      <td>Wuhan</td>\n",
              "      <td>495.0</td>\n",
              "      <td>0.0</td>\n",
              "      <td>0.0</td>\n",
              "    </tr>\n",
              "  </tbody>\n",
              "</table>\n",
              "<p>376 rows × 15 columns</p>\n",
              "</div>"
            ],
            "text/plain": [
              "      continentName continentEnglishName  ... city_curedCount city_deadCount\n",
              "149              亚洲                 Asia  ...         40073.0         2490.0\n",
              "478              亚洲                 Asia  ...         40032.0         2490.0\n",
              "497              亚洲                 Asia  ...         40032.0         2490.0\n",
              "1325             亚洲                 Asia  ...         39220.0         2480.0\n",
              "2095             亚洲                 Asia  ...         39220.0         2480.0\n",
              "...             ...                  ...  ...             ...            ...\n",
              "83125            亚洲                 Asia  ...             0.0            0.0\n",
              "83382            亚洲                 Asia  ...             0.0            0.0\n",
              "83390            亚洲                 Asia  ...             0.0            0.0\n",
              "83396            亚洲                 Asia  ...             0.0            0.0\n",
              "83400            亚洲                 Asia  ...             0.0            0.0\n",
              "\n",
              "[376 rows x 15 columns]"
            ]
          },
          "metadata": {
            "tags": []
          },
          "execution_count": 22
        }
      ]
    },
    {
      "cell_type": "code",
      "metadata": {
        "id": "NI-DzMW-667W",
        "colab_type": "code",
        "colab": {
          "base_uri": "https://localhost:8080/",
          "height": 623
        },
        "outputId": "6355aeba-03f8-4cda-8fa0-d53bcb722165"
      },
      "source": [
        "latest_wuhan = covid19_wuhan.sort_values('updateTime')\n",
        "latest_wuhan = latest_wuhan.set_index('updateTime')\n",
        "latest_wuhan"
      ],
      "execution_count": 23,
      "outputs": [
        {
          "output_type": "execute_result",
          "data": {
            "text/html": [
              "<div>\n",
              "<style scoped>\n",
              "    .dataframe tbody tr th:only-of-type {\n",
              "        vertical-align: middle;\n",
              "    }\n",
              "\n",
              "    .dataframe tbody tr th {\n",
              "        vertical-align: top;\n",
              "    }\n",
              "\n",
              "    .dataframe thead th {\n",
              "        text-align: right;\n",
              "    }\n",
              "</style>\n",
              "<table border=\"1\" class=\"dataframe\">\n",
              "  <thead>\n",
              "    <tr style=\"text-align: right;\">\n",
              "      <th></th>\n",
              "      <th>continentName</th>\n",
              "      <th>continentEnglishName</th>\n",
              "      <th>countryName</th>\n",
              "      <th>countryEnglishName</th>\n",
              "      <th>provinceName</th>\n",
              "      <th>provinceEnglishName</th>\n",
              "      <th>province_confirmedCount</th>\n",
              "      <th>province_curedCount</th>\n",
              "      <th>province_deadCount</th>\n",
              "      <th>cityName</th>\n",
              "      <th>cityEnglishName</th>\n",
              "      <th>city_confirmedCount</th>\n",
              "      <th>city_curedCount</th>\n",
              "      <th>city_deadCount</th>\n",
              "    </tr>\n",
              "    <tr>\n",
              "      <th>updateTime</th>\n",
              "      <th></th>\n",
              "      <th></th>\n",
              "      <th></th>\n",
              "      <th></th>\n",
              "      <th></th>\n",
              "      <th></th>\n",
              "      <th></th>\n",
              "      <th></th>\n",
              "      <th></th>\n",
              "      <th></th>\n",
              "      <th></th>\n",
              "      <th></th>\n",
              "      <th></th>\n",
              "      <th></th>\n",
              "    </tr>\n",
              "  </thead>\n",
              "  <tbody>\n",
              "    <tr>\n",
              "      <th>2020-01-24 09:47:38</th>\n",
              "      <td>亚洲</td>\n",
              "      <td>Asia</td>\n",
              "      <td>中国</td>\n",
              "      <td>China</td>\n",
              "      <td>湖北省</td>\n",
              "      <td>Hubei</td>\n",
              "      <td>549</td>\n",
              "      <td>0</td>\n",
              "      <td>0</td>\n",
              "      <td>武汉</td>\n",
              "      <td>Wuhan</td>\n",
              "      <td>495.0</td>\n",
              "      <td>0.0</td>\n",
              "      <td>0.0</td>\n",
              "    </tr>\n",
              "    <tr>\n",
              "      <th>2020-01-24 09:48:39</th>\n",
              "      <td>亚洲</td>\n",
              "      <td>Asia</td>\n",
              "      <td>中国</td>\n",
              "      <td>China</td>\n",
              "      <td>湖北省</td>\n",
              "      <td>Hubei</td>\n",
              "      <td>549</td>\n",
              "      <td>0</td>\n",
              "      <td>0</td>\n",
              "      <td>武汉</td>\n",
              "      <td>Wuhan</td>\n",
              "      <td>495.0</td>\n",
              "      <td>0.0</td>\n",
              "      <td>0.0</td>\n",
              "    </tr>\n",
              "    <tr>\n",
              "      <th>2020-01-24 09:49:39</th>\n",
              "      <td>亚洲</td>\n",
              "      <td>Asia</td>\n",
              "      <td>中国</td>\n",
              "      <td>China</td>\n",
              "      <td>湖北省</td>\n",
              "      <td>Hubei</td>\n",
              "      <td>549</td>\n",
              "      <td>0</td>\n",
              "      <td>0</td>\n",
              "      <td>武汉</td>\n",
              "      <td>Wuhan</td>\n",
              "      <td>495.0</td>\n",
              "      <td>0.0</td>\n",
              "      <td>0.0</td>\n",
              "    </tr>\n",
              "    <tr>\n",
              "      <th>2020-01-24 09:50:40</th>\n",
              "      <td>亚洲</td>\n",
              "      <td>Asia</td>\n",
              "      <td>中国</td>\n",
              "      <td>China</td>\n",
              "      <td>湖北省</td>\n",
              "      <td>Hubei</td>\n",
              "      <td>549</td>\n",
              "      <td>0</td>\n",
              "      <td>0</td>\n",
              "      <td>武汉</td>\n",
              "      <td>Wuhan</td>\n",
              "      <td>495.0</td>\n",
              "      <td>0.0</td>\n",
              "      <td>0.0</td>\n",
              "    </tr>\n",
              "    <tr>\n",
              "      <th>2020-01-24 11:49:48</th>\n",
              "      <td>亚洲</td>\n",
              "      <td>Asia</td>\n",
              "      <td>中国</td>\n",
              "      <td>China</td>\n",
              "      <td>湖北省</td>\n",
              "      <td>Hubei</td>\n",
              "      <td>549</td>\n",
              "      <td>0</td>\n",
              "      <td>0</td>\n",
              "      <td>武汉</td>\n",
              "      <td>Wuhan</td>\n",
              "      <td>495.0</td>\n",
              "      <td>0.0</td>\n",
              "      <td>0.0</td>\n",
              "    </tr>\n",
              "    <tr>\n",
              "      <th>...</th>\n",
              "      <td>...</td>\n",
              "      <td>...</td>\n",
              "      <td>...</td>\n",
              "      <td>...</td>\n",
              "      <td>...</td>\n",
              "      <td>...</td>\n",
              "      <td>...</td>\n",
              "      <td>...</td>\n",
              "      <td>...</td>\n",
              "      <td>...</td>\n",
              "      <td>...</td>\n",
              "      <td>...</td>\n",
              "      <td>...</td>\n",
              "      <td>...</td>\n",
              "    </tr>\n",
              "    <tr>\n",
              "      <th>2020-03-17 19:47:01</th>\n",
              "      <td>亚洲</td>\n",
              "      <td>Asia</td>\n",
              "      <td>中国</td>\n",
              "      <td>China</td>\n",
              "      <td>湖北省</td>\n",
              "      <td>Hubei</td>\n",
              "      <td>67799</td>\n",
              "      <td>56003</td>\n",
              "      <td>3111</td>\n",
              "      <td>武汉</td>\n",
              "      <td>Wuhan</td>\n",
              "      <td>50004.0</td>\n",
              "      <td>39220.0</td>\n",
              "      <td>2480.0</td>\n",
              "    </tr>\n",
              "    <tr>\n",
              "      <th>2020-03-18 09:19:13</th>\n",
              "      <td>亚洲</td>\n",
              "      <td>Asia</td>\n",
              "      <td>中国</td>\n",
              "      <td>China</td>\n",
              "      <td>湖北省</td>\n",
              "      <td>Hubei</td>\n",
              "      <td>67800</td>\n",
              "      <td>56883</td>\n",
              "      <td>3122</td>\n",
              "      <td>武汉</td>\n",
              "      <td>Wuhan</td>\n",
              "      <td>50004.0</td>\n",
              "      <td>39220.0</td>\n",
              "      <td>2480.0</td>\n",
              "    </tr>\n",
              "    <tr>\n",
              "      <th>2020-03-18 12:11:15</th>\n",
              "      <td>亚洲</td>\n",
              "      <td>Asia</td>\n",
              "      <td>中国</td>\n",
              "      <td>China</td>\n",
              "      <td>湖北省</td>\n",
              "      <td>Hubei</td>\n",
              "      <td>67800</td>\n",
              "      <td>56885</td>\n",
              "      <td>3122</td>\n",
              "      <td>武汉</td>\n",
              "      <td>Wuhan</td>\n",
              "      <td>50005.0</td>\n",
              "      <td>40032.0</td>\n",
              "      <td>2490.0</td>\n",
              "    </tr>\n",
              "    <tr>\n",
              "      <th>2020-03-18 12:12:22</th>\n",
              "      <td>亚洲</td>\n",
              "      <td>Asia</td>\n",
              "      <td>中国</td>\n",
              "      <td>China</td>\n",
              "      <td>湖北省</td>\n",
              "      <td>Hubei</td>\n",
              "      <td>67800</td>\n",
              "      <td>56886</td>\n",
              "      <td>3122</td>\n",
              "      <td>武汉</td>\n",
              "      <td>Wuhan</td>\n",
              "      <td>50005.0</td>\n",
              "      <td>40032.0</td>\n",
              "      <td>2490.0</td>\n",
              "    </tr>\n",
              "    <tr>\n",
              "      <th>2020-03-18 22:16:04</th>\n",
              "      <td>亚洲</td>\n",
              "      <td>Asia</td>\n",
              "      <td>中国</td>\n",
              "      <td>China</td>\n",
              "      <td>湖北省</td>\n",
              "      <td>Hubei</td>\n",
              "      <td>67800</td>\n",
              "      <td>56927</td>\n",
              "      <td>3122</td>\n",
              "      <td>武汉</td>\n",
              "      <td>Wuhan</td>\n",
              "      <td>50005.0</td>\n",
              "      <td>40073.0</td>\n",
              "      <td>2490.0</td>\n",
              "    </tr>\n",
              "  </tbody>\n",
              "</table>\n",
              "<p>376 rows × 14 columns</p>\n",
              "</div>"
            ],
            "text/plain": [
              "                    continentName  ... city_deadCount\n",
              "updateTime                         ...               \n",
              "2020-01-24 09:47:38            亚洲  ...            0.0\n",
              "2020-01-24 09:48:39            亚洲  ...            0.0\n",
              "2020-01-24 09:49:39            亚洲  ...            0.0\n",
              "2020-01-24 09:50:40            亚洲  ...            0.0\n",
              "2020-01-24 11:49:48            亚洲  ...            0.0\n",
              "...                           ...  ...            ...\n",
              "2020-03-17 19:47:01            亚洲  ...         2480.0\n",
              "2020-03-18 09:19:13            亚洲  ...         2480.0\n",
              "2020-03-18 12:11:15            亚洲  ...         2490.0\n",
              "2020-03-18 12:12:22            亚洲  ...         2490.0\n",
              "2020-03-18 22:16:04            亚洲  ...         2490.0\n",
              "\n",
              "[376 rows x 14 columns]"
            ]
          },
          "metadata": {
            "tags": []
          },
          "execution_count": 23
        }
      ]
    },
    {
      "cell_type": "code",
      "metadata": {
        "id": "PThl3hxh68ho",
        "colab_type": "code",
        "colab": {
          "base_uri": "https://localhost:8080/",
          "height": 623
        },
        "outputId": "d0b1c32e-a73d-4ad8-ded6-3014d41daef8"
      },
      "source": [
        "latest_wuhan = covid19_wuhan.sort_values('updateTime')\n",
        "latest_wuhan = latest_wuhan.set_index('updateTime')\n",
        "latest_wuhan"
      ],
      "execution_count": 24,
      "outputs": [
        {
          "output_type": "execute_result",
          "data": {
            "text/html": [
              "<div>\n",
              "<style scoped>\n",
              "    .dataframe tbody tr th:only-of-type {\n",
              "        vertical-align: middle;\n",
              "    }\n",
              "\n",
              "    .dataframe tbody tr th {\n",
              "        vertical-align: top;\n",
              "    }\n",
              "\n",
              "    .dataframe thead th {\n",
              "        text-align: right;\n",
              "    }\n",
              "</style>\n",
              "<table border=\"1\" class=\"dataframe\">\n",
              "  <thead>\n",
              "    <tr style=\"text-align: right;\">\n",
              "      <th></th>\n",
              "      <th>continentName</th>\n",
              "      <th>continentEnglishName</th>\n",
              "      <th>countryName</th>\n",
              "      <th>countryEnglishName</th>\n",
              "      <th>provinceName</th>\n",
              "      <th>provinceEnglishName</th>\n",
              "      <th>province_confirmedCount</th>\n",
              "      <th>province_curedCount</th>\n",
              "      <th>province_deadCount</th>\n",
              "      <th>cityName</th>\n",
              "      <th>cityEnglishName</th>\n",
              "      <th>city_confirmedCount</th>\n",
              "      <th>city_curedCount</th>\n",
              "      <th>city_deadCount</th>\n",
              "    </tr>\n",
              "    <tr>\n",
              "      <th>updateTime</th>\n",
              "      <th></th>\n",
              "      <th></th>\n",
              "      <th></th>\n",
              "      <th></th>\n",
              "      <th></th>\n",
              "      <th></th>\n",
              "      <th></th>\n",
              "      <th></th>\n",
              "      <th></th>\n",
              "      <th></th>\n",
              "      <th></th>\n",
              "      <th></th>\n",
              "      <th></th>\n",
              "      <th></th>\n",
              "    </tr>\n",
              "  </thead>\n",
              "  <tbody>\n",
              "    <tr>\n",
              "      <th>2020-01-24 09:47:38</th>\n",
              "      <td>亚洲</td>\n",
              "      <td>Asia</td>\n",
              "      <td>中国</td>\n",
              "      <td>China</td>\n",
              "      <td>湖北省</td>\n",
              "      <td>Hubei</td>\n",
              "      <td>549</td>\n",
              "      <td>0</td>\n",
              "      <td>0</td>\n",
              "      <td>武汉</td>\n",
              "      <td>Wuhan</td>\n",
              "      <td>495.0</td>\n",
              "      <td>0.0</td>\n",
              "      <td>0.0</td>\n",
              "    </tr>\n",
              "    <tr>\n",
              "      <th>2020-01-24 09:48:39</th>\n",
              "      <td>亚洲</td>\n",
              "      <td>Asia</td>\n",
              "      <td>中国</td>\n",
              "      <td>China</td>\n",
              "      <td>湖北省</td>\n",
              "      <td>Hubei</td>\n",
              "      <td>549</td>\n",
              "      <td>0</td>\n",
              "      <td>0</td>\n",
              "      <td>武汉</td>\n",
              "      <td>Wuhan</td>\n",
              "      <td>495.0</td>\n",
              "      <td>0.0</td>\n",
              "      <td>0.0</td>\n",
              "    </tr>\n",
              "    <tr>\n",
              "      <th>2020-01-24 09:49:39</th>\n",
              "      <td>亚洲</td>\n",
              "      <td>Asia</td>\n",
              "      <td>中国</td>\n",
              "      <td>China</td>\n",
              "      <td>湖北省</td>\n",
              "      <td>Hubei</td>\n",
              "      <td>549</td>\n",
              "      <td>0</td>\n",
              "      <td>0</td>\n",
              "      <td>武汉</td>\n",
              "      <td>Wuhan</td>\n",
              "      <td>495.0</td>\n",
              "      <td>0.0</td>\n",
              "      <td>0.0</td>\n",
              "    </tr>\n",
              "    <tr>\n",
              "      <th>2020-01-24 09:50:40</th>\n",
              "      <td>亚洲</td>\n",
              "      <td>Asia</td>\n",
              "      <td>中国</td>\n",
              "      <td>China</td>\n",
              "      <td>湖北省</td>\n",
              "      <td>Hubei</td>\n",
              "      <td>549</td>\n",
              "      <td>0</td>\n",
              "      <td>0</td>\n",
              "      <td>武汉</td>\n",
              "      <td>Wuhan</td>\n",
              "      <td>495.0</td>\n",
              "      <td>0.0</td>\n",
              "      <td>0.0</td>\n",
              "    </tr>\n",
              "    <tr>\n",
              "      <th>2020-01-24 11:49:48</th>\n",
              "      <td>亚洲</td>\n",
              "      <td>Asia</td>\n",
              "      <td>中国</td>\n",
              "      <td>China</td>\n",
              "      <td>湖北省</td>\n",
              "      <td>Hubei</td>\n",
              "      <td>549</td>\n",
              "      <td>0</td>\n",
              "      <td>0</td>\n",
              "      <td>武汉</td>\n",
              "      <td>Wuhan</td>\n",
              "      <td>495.0</td>\n",
              "      <td>0.0</td>\n",
              "      <td>0.0</td>\n",
              "    </tr>\n",
              "    <tr>\n",
              "      <th>...</th>\n",
              "      <td>...</td>\n",
              "      <td>...</td>\n",
              "      <td>...</td>\n",
              "      <td>...</td>\n",
              "      <td>...</td>\n",
              "      <td>...</td>\n",
              "      <td>...</td>\n",
              "      <td>...</td>\n",
              "      <td>...</td>\n",
              "      <td>...</td>\n",
              "      <td>...</td>\n",
              "      <td>...</td>\n",
              "      <td>...</td>\n",
              "      <td>...</td>\n",
              "    </tr>\n",
              "    <tr>\n",
              "      <th>2020-03-17 19:47:01</th>\n",
              "      <td>亚洲</td>\n",
              "      <td>Asia</td>\n",
              "      <td>中国</td>\n",
              "      <td>China</td>\n",
              "      <td>湖北省</td>\n",
              "      <td>Hubei</td>\n",
              "      <td>67799</td>\n",
              "      <td>56003</td>\n",
              "      <td>3111</td>\n",
              "      <td>武汉</td>\n",
              "      <td>Wuhan</td>\n",
              "      <td>50004.0</td>\n",
              "      <td>39220.0</td>\n",
              "      <td>2480.0</td>\n",
              "    </tr>\n",
              "    <tr>\n",
              "      <th>2020-03-18 09:19:13</th>\n",
              "      <td>亚洲</td>\n",
              "      <td>Asia</td>\n",
              "      <td>中国</td>\n",
              "      <td>China</td>\n",
              "      <td>湖北省</td>\n",
              "      <td>Hubei</td>\n",
              "      <td>67800</td>\n",
              "      <td>56883</td>\n",
              "      <td>3122</td>\n",
              "      <td>武汉</td>\n",
              "      <td>Wuhan</td>\n",
              "      <td>50004.0</td>\n",
              "      <td>39220.0</td>\n",
              "      <td>2480.0</td>\n",
              "    </tr>\n",
              "    <tr>\n",
              "      <th>2020-03-18 12:11:15</th>\n",
              "      <td>亚洲</td>\n",
              "      <td>Asia</td>\n",
              "      <td>中国</td>\n",
              "      <td>China</td>\n",
              "      <td>湖北省</td>\n",
              "      <td>Hubei</td>\n",
              "      <td>67800</td>\n",
              "      <td>56885</td>\n",
              "      <td>3122</td>\n",
              "      <td>武汉</td>\n",
              "      <td>Wuhan</td>\n",
              "      <td>50005.0</td>\n",
              "      <td>40032.0</td>\n",
              "      <td>2490.0</td>\n",
              "    </tr>\n",
              "    <tr>\n",
              "      <th>2020-03-18 12:12:22</th>\n",
              "      <td>亚洲</td>\n",
              "      <td>Asia</td>\n",
              "      <td>中国</td>\n",
              "      <td>China</td>\n",
              "      <td>湖北省</td>\n",
              "      <td>Hubei</td>\n",
              "      <td>67800</td>\n",
              "      <td>56886</td>\n",
              "      <td>3122</td>\n",
              "      <td>武汉</td>\n",
              "      <td>Wuhan</td>\n",
              "      <td>50005.0</td>\n",
              "      <td>40032.0</td>\n",
              "      <td>2490.0</td>\n",
              "    </tr>\n",
              "    <tr>\n",
              "      <th>2020-03-18 22:16:04</th>\n",
              "      <td>亚洲</td>\n",
              "      <td>Asia</td>\n",
              "      <td>中国</td>\n",
              "      <td>China</td>\n",
              "      <td>湖北省</td>\n",
              "      <td>Hubei</td>\n",
              "      <td>67800</td>\n",
              "      <td>56927</td>\n",
              "      <td>3122</td>\n",
              "      <td>武汉</td>\n",
              "      <td>Wuhan</td>\n",
              "      <td>50005.0</td>\n",
              "      <td>40073.0</td>\n",
              "      <td>2490.0</td>\n",
              "    </tr>\n",
              "  </tbody>\n",
              "</table>\n",
              "<p>376 rows × 14 columns</p>\n",
              "</div>"
            ],
            "text/plain": [
              "                    continentName  ... city_deadCount\n",
              "updateTime                         ...               \n",
              "2020-01-24 09:47:38            亚洲  ...            0.0\n",
              "2020-01-24 09:48:39            亚洲  ...            0.0\n",
              "2020-01-24 09:49:39            亚洲  ...            0.0\n",
              "2020-01-24 09:50:40            亚洲  ...            0.0\n",
              "2020-01-24 11:49:48            亚洲  ...            0.0\n",
              "...                           ...  ...            ...\n",
              "2020-03-17 19:47:01            亚洲  ...         2480.0\n",
              "2020-03-18 09:19:13            亚洲  ...         2480.0\n",
              "2020-03-18 12:11:15            亚洲  ...         2490.0\n",
              "2020-03-18 12:12:22            亚洲  ...         2490.0\n",
              "2020-03-18 22:16:04            亚洲  ...         2490.0\n",
              "\n",
              "[376 rows x 14 columns]"
            ]
          },
          "metadata": {
            "tags": []
          },
          "execution_count": 24
        }
      ]
    },
    {
      "cell_type": "code",
      "metadata": {
        "id": "Fv_yjE8R8rYm",
        "colab_type": "code",
        "colab": {
          "base_uri": "https://localhost:8080/",
          "height": 750
        },
        "outputId": "4ae33497-94bb-4d81-a070-d8462edd6598"
      },
      "source": [
        "import seaborn as sns\n",
        "plt.figure(figsize=(14,12))\n",
        "ax = plt.gca()\n",
        "plt.figure(num=None, figsize=(10, 20), dpi=80, facecolor='w', edgecolor='k')\n",
        "latest_wuhan.plot(kind='line',  y='city_confirmedCount', ax=ax)\n",
        "latest_wuhan.plot(kind='line',  y='city_curedCount', ax=ax)\n",
        "latest_wuhan.plot(kind='line',  y='city_deadCount', ax=ax)"
      ],
      "execution_count": 27,
      "outputs": [
        {
          "output_type": "execute_result",
          "data": {
            "text/plain": [
              "<matplotlib.axes._subplots.AxesSubplot at 0x7ff726fa4550>"
            ]
          },
          "metadata": {
            "tags": []
          },
          "execution_count": 27
        },
        {
          "output_type": "display_data",
          "data": {
            "image/png": "[encoded data removed]",
            "text/plain": [
              "<Figure size 1008x864 with 1 Axes>"
            ]
          },
          "metadata": {
            "tags": [],
            "needs_background": "light"
          }
        },
        {
          "output_type": "display_data",
          "data": {
            "text/plain": [
              "<Figure size 800x1600 with 0 Axes>"
            ]
          },
          "metadata": {
            "tags": []
          }
        }
      ]
    },
    {
      "cell_type": "code",
      "metadata": {
        "id": "TCuD0Ogk9hq2",
        "colab_type": "code",
        "colab": {
          "base_uri": "https://localhost:8080/",
          "height": 1000
        },
        "outputId": "4ee693d3-0bfd-4660-bfec-e4171bd4ce79"
      },
      "source": [
        "sns.pairplot(latest_wuhan)"
      ],
      "execution_count": 28,
      "outputs": [
        {
          "output_type": "execute_result",
          "data": {
            "text/plain": [
              "<seaborn.axisgrid.PairGrid at 0x7ff727131b38>"
            ]
          },
          "metadata": {
            "tags": []
          },
          "execution_count": 28
        },
        {
          "output_type": "display_data",
          "data": {
            "image/png": "[encoded data removed]",
            "text/plain": [
              "<Figure size 1080x1080 with 42 Axes>"
            ]
          },
          "metadata": {
            "tags": [],
            "needs_background": "light"
          }
        }
      ]
    },
    {
      "cell_type": "markdown",
      "metadata": {
        "id": "OW7EjthI-PAH",
        "colab_type": "text"
      },
      "source": [
        "#Our model for Infection"
      ]
    },
    {
      "cell_type": "code",
      "metadata": {
        "id": "snEGbJv_916G",
        "colab_type": "code",
        "colab": {
          "base_uri": "https://localhost:8080/",
          "height": 212
        },
        "outputId": "fba90e59-cb30-44f6-f047-70119e308908"
      },
      "source": [
        "!pip install pymc3"
      ],
      "execution_count": 29,
      "outputs": [
        {
          "output_type": "stream",
          "text": [
            "Requirement already satisfied: pymc3 in /usr/local/lib/python3.6/dist-packages (3.7)\n",
            "Requirement already satisfied: theano>=1.0.4 in /usr/local/lib/python3.6/dist-packages (from pymc3) (1.0.4)\n",
            "Requirement already satisfied: pandas>=0.18.0 in /usr/local/lib/python3.6/dist-packages (from pymc3) (1.0.3)\n",
            "Requirement already satisfied: tqdm>=4.8.4 in /usr/local/lib/python3.6/dist-packages (from pymc3) (4.38.0)\n",
            "Requirement already satisfied: scipy>=0.18.1 in /usr/local/lib/python3.6/dist-packages (from pymc3) (1.4.1)\n",
            "Requirement already satisfied: patsy>=0.4.0 in /usr/local/lib/python3.6/dist-packages (from pymc3) (0.5.1)\n",
            "Requirement already satisfied: numpy>=1.13.0 in /usr/local/lib/python3.6/dist-packages (from pymc3) (1.18.2)\n",
            "Requirement already satisfied: h5py>=2.7.0 in /usr/local/lib/python3.6/dist-packages (from pymc3) (2.10.0)\n",
            "Requirement already satisfied: six>=1.9.0 in /usr/local/lib/python3.6/dist-packages (from theano>=1.0.4->pymc3) (1.12.0)\n",
            "Requirement already satisfied: pytz>=2017.2 in /usr/local/lib/python3.6/dist-packages (from pandas>=0.18.0->pymc3) (2018.9)\n",
            "Requirement already satisfied: python-dateutil>=2.6.1 in /usr/local/lib/python3.6/dist-packages (from pandas>=0.18.0->pymc3) (2.8.1)\n"
          ],
          "name": "stdout"
        }
      ]
    },
    {
      "cell_type": "code",
      "metadata": {
        "id": "U3MrzuHs-aOO",
        "colab_type": "code",
        "colab": {
          "base_uri": "https://localhost:8080/",
          "height": 34
        },
        "outputId": "738c0897-c933-4acd-d4c2-43649ab64d63"
      },
      "source": [
        "import pymc3 as pm\n",
        "pm.__version__"
      ],
      "execution_count": 30,
      "outputs": [
        {
          "output_type": "execute_result",
          "data": {
            "text/plain": [
              "'3.7'"
            ]
          },
          "metadata": {
            "tags": []
          },
          "execution_count": 30
        }
      ]
    },
    {
      "cell_type": "code",
      "metadata": {
        "id": "hXUAIMgh-r3l",
        "colab_type": "code",
        "colab": {
          "base_uri": "https://localhost:8080/",
          "height": 532
        },
        "outputId": "c1aa034f-92ff-4446-cfe0-842b08a55d33"
      },
      "source": [
        "pip install pymc3[plots]"
      ],
      "execution_count": 31,
      "outputs": [
        {
          "output_type": "stream",
          "text": [
            "Requirement already satisfied: pymc3[plots] in /usr/local/lib/python3.6/dist-packages (3.7)\n",
            "Requirement already satisfied: h5py>=2.7.0 in /usr/local/lib/python3.6/dist-packages (from pymc3[plots]) (2.10.0)\n",
            "Requirement already satisfied: tqdm>=4.8.4 in /usr/local/lib/python3.6/dist-packages (from pymc3[plots]) (4.38.0)\n",
            "Requirement already satisfied: theano>=1.0.4 in /usr/local/lib/python3.6/dist-packages (from pymc3[plots]) (1.0.4)\n",
            "Requirement already satisfied: numpy>=1.13.0 in /usr/local/lib/python3.6/dist-packages (from pymc3[plots]) (1.18.2)\n",
            "Requirement already satisfied: scipy>=0.18.1 in /usr/local/lib/python3.6/dist-packages (from pymc3[plots]) (1.4.1)\n",
            "Requirement already satisfied: pandas>=0.18.0 in /usr/local/lib/python3.6/dist-packages (from pymc3[plots]) (1.0.3)\n",
            "Requirement already satisfied: patsy>=0.4.0 in /usr/local/lib/python3.6/dist-packages (from pymc3[plots]) (0.5.1)\n",
            "Collecting arviz; extra == \"plots\"\n",
            "\u001b[?25l  Downloading https://files.pythonhosted.org/packages/6c/23/73ae3b88a6837fa5a162d984acabfd2e75dc847ed67e5690aa44d02f491a/arviz-0.7.0-py3-none-any.whl (1.5MB)\n",
            "\u001b[K     |████████████████████████████████| 1.5MB 3.4MB/s \n",
            "\u001b[?25hRequirement already satisfied: six in /usr/local/lib/python3.6/dist-packages (from h5py>=2.7.0->pymc3[plots]) (1.12.0)\n",
            "Requirement already satisfied: pytz>=2017.2 in /usr/local/lib/python3.6/dist-packages (from pandas>=0.18.0->pymc3[plots]) (2018.9)\n",
            "Requirement already satisfied: python-dateutil>=2.6.1 in /usr/local/lib/python3.6/dist-packages (from pandas>=0.18.0->pymc3[plots]) (2.8.1)\n",
            "Requirement already satisfied: xarray>=0.11 in /usr/local/lib/python3.6/dist-packages (from arviz; extra == \"plots\"->pymc3[plots]) (0.15.1)\n",
            "Requirement already satisfied: packaging in /usr/local/lib/python3.6/dist-packages (from arviz; extra == \"plots\"->pymc3[plots]) (20.3)\n",
            "Collecting netcdf4\n",
            "\u001b[?25l  Downloading https://files.pythonhosted.org/packages/35/4f/d49fe0c65dea4d2ebfdc602d3e3d2a45a172255c151f4497c43f6d94a5f6/netCDF4-1.5.3-cp36-cp36m-manylinux1_x86_64.whl (4.1MB)\n",
            "\u001b[K     |████████████████████████████████| 4.1MB 38.4MB/s \n",
            "\u001b[?25hRequirement already satisfied: matplotlib>=3.0 in /usr/local/lib/python3.6/dist-packages (from arviz; extra == \"plots\"->pymc3[plots]) (3.2.1)\n",
            "Requirement already satisfied: setuptools>=41.2 in /usr/local/lib/python3.6/dist-packages (from xarray>=0.11->arviz; extra == \"plots\"->pymc3[plots]) (46.1.3)\n",
            "Requirement already satisfied: pyparsing>=2.0.2 in /usr/local/lib/python3.6/dist-packages (from packaging->arviz; extra == \"plots\"->pymc3[plots]) (2.4.7)\n",
            "Collecting cftime\n",
            "\u001b[?25l  Downloading https://files.pythonhosted.org/packages/c3/a7/e32404add6225b1f5a2b9efed6aa5bba918da637c8dd6cf85fe4ad7bfdc4/cftime-1.1.2-cp36-cp36m-manylinux1_x86_64.whl (320kB)\n",
            "\u001b[K     |████████████████████████████████| 327kB 44.8MB/s \n",
            "\u001b[?25hRequirement already satisfied: kiwisolver>=1.0.1 in /usr/local/lib/python3.6/dist-packages (from matplotlib>=3.0->arviz; extra == \"plots\"->pymc3[plots]) (1.2.0)\n",
            "Requirement already satisfied: cycler>=0.10 in /usr/local/lib/python3.6/dist-packages (from matplotlib>=3.0->arviz; extra == \"plots\"->pymc3[plots]) (0.10.0)\n",
            "Installing collected packages: cftime, netcdf4, arviz\n",
            "Successfully installed arviz-0.7.0 cftime-1.1.2 netcdf4-1.5.3\n"
          ],
          "name": "stdout"
        }
      ]
    },
    {
      "cell_type": "code",
      "metadata": {
        "id": "jYeE5Mq_-7Li",
        "colab_type": "code",
        "colab": {
          "base_uri": "https://localhost:8080/",
          "height": 301
        },
        "outputId": "2214ea2b-3ecd-4c62-bc10-da87721fdd99"
      },
      "source": [
        "!pip install arviz"
      ],
      "execution_count": 32,
      "outputs": [
        {
          "output_type": "stream",
          "text": [
            "Requirement already satisfied: arviz in /usr/local/lib/python3.6/dist-packages (0.7.0)\n",
            "Requirement already satisfied: packaging in /usr/local/lib/python3.6/dist-packages (from arviz) (20.3)\n",
            "Requirement already satisfied: numpy>=1.12 in /usr/local/lib/python3.6/dist-packages (from arviz) (1.18.2)\n",
            "Requirement already satisfied: netcdf4 in /usr/local/lib/python3.6/dist-packages (from arviz) (1.5.3)\n",
            "Requirement already satisfied: matplotlib>=3.0 in /usr/local/lib/python3.6/dist-packages (from arviz) (3.2.1)\n",
            "Requirement already satisfied: xarray>=0.11 in /usr/local/lib/python3.6/dist-packages (from arviz) (0.15.1)\n",
            "Requirement already satisfied: pandas>=0.23 in /usr/local/lib/python3.6/dist-packages (from arviz) (1.0.3)\n",
            "Requirement already satisfied: scipy>=0.19 in /usr/local/lib/python3.6/dist-packages (from arviz) (1.4.1)\n",
            "Requirement already satisfied: six in /usr/local/lib/python3.6/dist-packages (from packaging->arviz) (1.12.0)\n",
            "Requirement already satisfied: pyparsing>=2.0.2 in /usr/local/lib/python3.6/dist-packages (from packaging->arviz) (2.4.7)\n",
            "Requirement already satisfied: cftime in /usr/local/lib/python3.6/dist-packages (from netcdf4->arviz) (1.1.2)\n",
            "Requirement already satisfied: python-dateutil>=2.1 in /usr/local/lib/python3.6/dist-packages (from matplotlib>=3.0->arviz) (2.8.1)\n",
            "Requirement already satisfied: cycler>=0.10 in /usr/local/lib/python3.6/dist-packages (from matplotlib>=3.0->arviz) (0.10.0)\n",
            "Requirement already satisfied: kiwisolver>=1.0.1 in /usr/local/lib/python3.6/dist-packages (from matplotlib>=3.0->arviz) (1.2.0)\n",
            "Requirement already satisfied: setuptools>=41.2 in /usr/local/lib/python3.6/dist-packages (from xarray>=0.11->arviz) (46.1.3)\n",
            "Requirement already satisfied: pytz>=2017.2 in /usr/local/lib/python3.6/dist-packages (from pandas>=0.23->arviz) (2018.9)\n"
          ],
          "name": "stdout"
        }
      ]
    },
    {
      "cell_type": "code",
      "metadata": {
        "id": "W_SBa-qH_AXU",
        "colab_type": "code",
        "colab": {}
      },
      "source": [
        "%matplotlib inline\n",
        "import numpy as np\n",
        "import matplotlib.pyplot as plt\n",
        "\n",
        "plt.style.use('seaborn-darkgrid')"
      ],
      "execution_count": 0,
      "outputs": []
    },
    {
      "cell_type": "markdown",
      "metadata": {
        "id": "djzsKKes_Q7z",
        "colab_type": "text"
      },
      "source": [
        "# Acquired immunity controls the infection"
      ]
    },
    {
      "cell_type": "markdown",
      "metadata": {
        "id": "fFeokgpn_YKt",
        "colab_type": "text"
      },
      "source": [
        "The Susceptible-Infected-Recovered model of infection describes time dynamics of an infectious disease spreading through a homogenous closed population (no births or deaths). The population is divided into three categories: ***Susceptible S***, ***Infective I***, or ***Recovered/Dead R***. We can further refine our model by having a different category D for dead, but let's keep it simple for now and include dead people as recovered. When people die, if properly buried, they cannot infect anymore and so they are equivalent to people that have recovered and are immune to the infection.\n",
        "\n",
        "Susceptible individuals are those that have not acquired immunity yet and are susceptible to becoming infected.\n",
        "\n",
        "Infected individuals have been infected with the disease.\n",
        "\n",
        "Recovered individuals are cured and not susceptible anymore to the disease."
      ]
    },
    {
      "cell_type": "markdown",
      "metadata": {
        "id": "N4nCs5DZ_sDm",
        "colab_type": "text"
      },
      "source": [
        "## SIR Model of Infections"
      ]
    },
    {
      "cell_type": "markdown",
      "metadata": {
        "id": "GjXWT_SN_xOu",
        "colab_type": "text"
      },
      "source": [
        "Differential equations are a mathematical framework for modelling temporal dynamics of a system. The differential equations for the SIR model of infection are:\n",
        "\n",
        "$$\\dfrac{dS}{dt} = - \\beta SI \\quad S(0) = S_0$$$$\\dfrac{dI}{dt} = \\beta SI - \\gamma I \\quad I(0) = I_0$$$$\\dfrac{dR}{dt} = \\gamma I \\quad R(0) = R_0$$\n",
        "With the constraint that:\n",
        "\n",
        "$$S(t) + I(t) + R(t) = 1 \\;\\;, \\forall t$$\n",
        "Other models are available for modeling infectious diseases, such as the IBM model.\n",
        "\n",
        "If we know R(t) and I(t) then we can determine S(t): $S(t) = 1 - I(t) - R(t)$, so we can work only with the two unknowns: R(t) and I(t). We prefer to work with these because that is what the China Covid19 dataset gives us!\n",
        "\n",
        "So we write:\n",
        "\n",
        "$$\\dfrac{dI}{dt} = \\beta (1 - I - R) I - \\gamma I \\quad I(0) = I_0$$$$\\dfrac{dR}{dt} = \\gamma I \\quad R(0) = R_0$$\n",
        "Simplifying:\n",
        "\n",
        "$$\\dfrac{dI}{dt} = \\beta (1 - I - R -\\gamma/\\beta) I  \\quad I(0) = I_0$$$$\\dfrac{dR}{dt} = \\gamma I \\quad R(0) = R_0$$\n",
        "We have two equations in two unknowns, so we're good mathematicaly speaking. What are the parameters?"
      ]
    },
    {
      "cell_type": "markdown",
      "metadata": {
        "id": "awwJsnzfAepz",
        "colab_type": "text"
      },
      "source": [
        "\n",
        "[Compartmental models in epidemiology](https://en.wikipedia.org/wiki/Compartmental_models_in_epidemiology)\n",
        "\n",
        "\n",
        "[SIR Model](https://https://www.maa.org/press/periodicals/loci/joma/the-sir-model-for-spread-of-disease-the-differential-equation-model)\n"
      ]
    },
    {
      "cell_type": "markdown",
      "metadata": {
        "id": "gK_jnGbhDwEH",
        "colab_type": "text"
      },
      "source": [
        "$\\beta$  is the rate of infection per susceptible and per infective individual: $\\beta$ is an average infected to non-infected individual contact (e.g. 4 individuals) and hinges on the underlying society. Arguably, it is higher in China where the population is denser. But it also high in very social Mediterranean countries like Italy and Spain. $\\gamma$ is the rate of recovery: It can be interpreted as an average period of infectiousness (e.g. 3 to 5 days for the common flu). For Covid19, experts are astonished by how long an individual can infect others and say that it can be up to 30 days!"
      ]
    },
    {
      "cell_type": "markdown",
      "metadata": {
        "id": "96rmGMoTFNJO",
        "colab_type": "text"
      },
      "source": [
        "\n",
        "\n",
        "\n",
        "\n",
        "\n",
        ">For an example, in the Hong Kong flu in New York City in the late 1960's, hardly anyone was immune at the beginning of the epidemic, so almost everyone was susceptible. [This](https://www.maa.org/press/periodicals/loci/joma/the-sir-model-for-spread-of-disease-the-differential-equation-model) paper gives an estimate for the parameters. Assuming a trace level of infection in the population, say, 10 people, population variables are S(0) = 7,900,000, I(0) = 10, R(0) = 0. In terms of scaled variables, these initial conditions are s(0) = 1, i(0) = 1.27 x 10-6, r(0) = 0. We don't know values for the parameters  𝛽  and  𝛾  yet, but they can be estimated and then adjusted as necessary to fit the excess death data. The average period of infectiousness is estimated at three days, so that would suggest  𝛾=1/3 . Guessing that each infected individual would make a possibly infecting contact with another individual every two days, then  𝛽  would be  1/2 . So  𝛽/𝛾=3/2>1 .\n",
        "\n",
        "\n",
        "\n",
        "\n"
      ]
    },
    {
      "cell_type": "markdown",
      "metadata": {
        "id": "kW5wo1hOGooJ",
        "colab_type": "text"
      },
      "source": [
        "The quantity  β/γ  is called **R-Nought ( 𝑅0 )**. Its interpretation is that if we were to drop a single infected person into a population of suceptible individuals, we would expect  𝑅0  new infections. If  𝑅0>1 , then an epidemic will take place. If  𝑅0≤1  then there will be no epidemic."
      ]
    },
    {
      "cell_type": "markdown",
      "metadata": {
        "id": "Ctn777MYG9Sj",
        "colab_type": "text"
      },
      "source": [
        ">When  𝑅0<1 , each person who contracts the disease will infect fewer than one person before dying or recovering, so the outbreak will fizzle ( 𝑑𝐼/𝑑𝑡<0 ). When  𝑅0>1 , each person who gets the disease will infect more than one person, so the epidemic will spread ( 𝑑𝐼/𝑑𝑡>0 ).  𝑅0  is the most important quantity in epidemiology."
      ]
    },
    {
      "cell_type": "markdown",
      "metadata": {
        "id": "FjLQkTOXHClJ",
        "colab_type": "text"
      },
      "source": [
        "Let's model our SIR equations using a python function. y is our unknown, it's 2D:  𝑦[0]=𝐼  and  𝑦[1]=𝑅 . . The parameters p are 2D:  𝑝[0]=𝛽  and  𝑝[1]=𝛾 "
      ]
    },
    {
      "cell_type": "markdown",
      "metadata": {
        "id": "35fZL6tcH42K",
        "colab_type": "text"
      },
      "source": [
        "In accordance with the odeint package of the scipy.integrate library for integrating (solving) ordinary differential equations, we'll write our SIR function thusly, assuming that the constant time step dt is equal to 1."
      ]
    },
    {
      "cell_type": "code",
      "metadata": {
        "id": "3hum9ZTZHh1e",
        "colab_type": "code",
        "colab": {}
      },
      "source": [
        "def SIR(y, t, p):\n",
        "    di = p[0] * (1. - y[0] - y[1] - p[1]/p[0]) * y[0]\n",
        "    dr = p[1] * y[0]\n",
        "    return [di, dr]"
      ],
      "execution_count": 0,
      "outputs": []
    },
    {
      "cell_type": "code",
      "metadata": {
        "id": "xbASafmw_QEA",
        "colab_type": "code",
        "colab": {}
      },
      "source": [
        "def susceptible(i, r):\n",
        "    s=[]\n",
        "    for x in range (len(i)):\n",
        "            s.append(1-i[x]-r[x])\n",
        "    return s"
      ],
      "execution_count": 0,
      "outputs": []
    },
    {
      "cell_type": "markdown",
      "metadata": {
        "id": "WBvDAwglI7dj",
        "colab_type": "text"
      },
      "source": [
        "This will be our time discretization:"
      ]
    },
    {
      "cell_type": "code",
      "metadata": {
        "id": "KDKSxPHSI6n8",
        "colab_type": "code",
        "colab": {}
      },
      "source": [
        "times = np.arange(0, 5, 0.25)"
      ],
      "execution_count": 0,
      "outputs": []
    },
    {
      "cell_type": "markdown",
      "metadata": {
        "id": "0Jc00hvpJKcS",
        "colab_type": "text"
      },
      "source": [
        "Let's compute *exact* values for `y` (y\\[0\\] = I and y\\[1\\] = R). Let's assume that I(0) = 0.01 and R(0) = 0. In other words, we start with 1% infected individuals in the population, 0 recovered, and so 1 - 0.01 - 0 = 99% susceptible individuals.\n",
        "\n",
        "Let's pick some values for $\\beta$ and $\\gamma$ to begin with (we will model them based on China's data leter on), which guarantee an epidemic ($\\beta > \\gamma$):"
      ]
    },
    {
      "cell_type": "code",
      "metadata": {
        "id": "nxIzxOm8_EYQ",
        "colab_type": "code",
        "colab": {}
      },
      "source": [
        "beta, gamma = 4.0, 1.0"
      ],
      "execution_count": 0,
      "outputs": []
    },
    {
      "cell_type": "markdown",
      "metadata": {
        "id": "1tMpyHRAJ9Yr",
        "colab_type": "text"
      },
      "source": [
        "Realistically, an individual may be in infectious contact with more than 4 other individuals per day, and Covid19's infectivity is much bigger than 1 day!\n",
        "\n",
        "We use the library `odeint` from the package `scipy.integrate` to solve the ordinary differential equations for SIR:"
      ]
    },
    {
      "cell_type": "code",
      "metadata": {
        "id": "4ht9-OxTJ4zI",
        "colab_type": "code",
        "colab": {}
      },
      "source": [
        "from scipy.integrate import odeint\n",
        "\n",
        "# Compute true curves\n",
        "y = odeint(SIR, t=times, y0=[0.01, 0.0], args=((beta, gamma),), rtol=1e-8)"
      ],
      "execution_count": 0,
      "outputs": []
    },
    {
      "cell_type": "code",
      "metadata": {
        "id": "FHEYY6s7LH5h",
        "colab_type": "code",
        "colab": {
          "base_uri": "https://localhost:8080/",
          "height": 372
        },
        "outputId": "3eabfe3e-65dd-4431-b231-8c7473db694c"
      },
      "source": [
        "y"
      ],
      "execution_count": 40,
      "outputs": [
        {
          "output_type": "execute_result",
          "data": {
            "text/plain": [
              "array([[0.01      , 0.        ],\n",
              "       [0.0208257 , 0.00369366],\n",
              "       [0.04246544, 0.01130492],\n",
              "       [0.083082  , 0.02650486],\n",
              "       [0.15079362, 0.05513194],\n",
              "       [0.24292884, 0.10400761],\n",
              "       [0.3349354 , 0.17661942],\n",
              "       [0.3933139 , 0.26860411],\n",
              "       [0.40470816, 0.36928649],\n",
              "       [0.37975604, 0.46791413],\n",
              "       [0.3359828 , 0.55761153],\n",
              "       [0.28660856, 0.63545595],\n",
              "       [0.23898306, 0.70107272],\n",
              "       [0.19638616, 0.75537256],\n",
              "       [0.15983607, 0.79977261],\n",
              "       [0.12923981, 0.83578799],\n",
              "       [0.10402352, 0.86484124],\n",
              "       [0.08345368, 0.88818694],\n",
              "       [0.06679166, 0.90689355],\n",
              "       [0.05336167, 0.92185186]])"
            ]
          },
          "metadata": {
            "tags": []
          },
          "execution_count": 40
        }
      ]
    },
    {
      "cell_type": "code",
      "metadata": {
        "id": "NDIuhN_cLIlp",
        "colab_type": "code",
        "colab": {
          "base_uri": "https://localhost:8080/",
          "height": 297
        },
        "outputId": "8bad1fbd-26f9-441d-d70c-e965a9219945"
      },
      "source": [
        "plt.plot(y)"
      ],
      "execution_count": 41,
      "outputs": [
        {
          "output_type": "execute_result",
          "data": {
            "text/plain": [
              "[<matplotlib.lines.Line2D at 0x7ff71ca52438>,\n",
              " <matplotlib.lines.Line2D at 0x7ff71ca52588>]"
            ]
          },
          "metadata": {
            "tags": []
          },
          "execution_count": 41
        },
        {
          "output_type": "display_data",
          "data": {
            "image/png": "[encoded data removed]",
            "text/plain": [
              "<Figure size 432x288 with 1 Axes>"
            ]
          },
          "metadata": {
            "tags": []
          }
        }
      ]
    },
    {
      "cell_type": "markdown",
      "metadata": {
        "id": "TJTPrUR5LPjq",
        "colab_type": "text"
      },
      "source": [
        "The data has uncertainty (or ***noise***) because of our measurement tools ([aleatoric uncertainty](https://en.wikipedia.org/wiki/Uncertainty_quantification)), but also because the modeling equations are not perfect ([epistemic uncertainity](https://en.wikipedia.org/wiki/Uncertainty_quantification)).\n",
        "\n",
        "We pick a [log-normal distribution](https://en.wikipedia.org/wiki/Log-normal_distribution), a continuous probability distribution whose logarithm is *normally distributed* (thus, if the random variable X is log-normally distributed, then Y = ln(X) has a normal distribution) as our observations pdf, with a mean equal to the log of `y`. \n",
        "\n",
        ">**NOTE**: Recall that taking the logarithm of a histogram of a dataset makes the histogram look much prettier, i.e. closer to a normal distribution, so that we can indeed model it as a normal distribution. So this is a very common operation amongst data scientists.\n",
        "\n",
        "So, these are our observations: Data from the true curves for I and R with errors 10% and 10% respectively"
      ]
    },
    {
      "cell_type": "code",
      "metadata": {
        "id": "ofXRe82yLLJM",
        "colab_type": "code",
        "colab": {
          "base_uri": "https://localhost:8080/",
          "height": 354
        },
        "outputId": "1b1054cd-a1bc-4ca7-9e1b-f54456081302"
      },
      "source": [
        "yobs = np.random.lognormal(mean=np.log(y[1::]), sigma=[0.1, 0.1])\n",
        "yobs"
      ],
      "execution_count": 43,
      "outputs": [
        {
          "output_type": "execute_result",
          "data": {
            "text/plain": [
              "array([[0.01869073, 0.00396746],\n",
              "       [0.04184135, 0.01181846],\n",
              "       [0.07827797, 0.0249992 ],\n",
              "       [0.14971965, 0.04964941],\n",
              "       [0.20695266, 0.08913803],\n",
              "       [0.305933  , 0.16953318],\n",
              "       [0.34953688, 0.26787546],\n",
              "       [0.36734449, 0.37533768],\n",
              "       [0.42964504, 0.49608378],\n",
              "       [0.3659597 , 0.52526379],\n",
              "       [0.25918091, 0.65562911],\n",
              "       [0.23364469, 0.6737309 ],\n",
              "       [0.20681091, 0.75353059],\n",
              "       [0.17304669, 0.75097537],\n",
              "       [0.1498701 , 0.80726525],\n",
              "       [0.09202156, 0.96280808],\n",
              "       [0.08067223, 1.02482394],\n",
              "       [0.06869296, 1.04472216],\n",
              "       [0.05574599, 0.97647616]])"
            ]
          },
          "metadata": {
            "tags": []
          },
          "execution_count": 43
        }
      ]
    },
    {
      "cell_type": "markdown",
      "metadata": {
        "id": "wvR-S3w2MF8y",
        "colab_type": "text"
      },
      "source": [
        "Now plotting our observations as datapoints on top of the exact values for S and I. R is not observed but estimated from the exact curves for S and I. Plotting that, too."
      ]
    },
    {
      "cell_type": "code",
      "metadata": {
        "id": "cHkU50tVLwSW",
        "colab_type": "code",
        "colab": {}
      },
      "source": [
        "i_ = [i[0] for i in yobs]\n",
        "r_= [i[1] for i in yobs]"
      ],
      "execution_count": 0,
      "outputs": []
    },
    {
      "cell_type": "code",
      "metadata": {
        "id": "3wDx4GdxMMPO",
        "colab_type": "code",
        "colab": {
          "base_uri": "https://localhost:8080/",
          "height": 354
        },
        "outputId": "92388d99-0b68-40b7-bfe1-6964c6ef9a79"
      },
      "source": [
        "i_"
      ],
      "execution_count": 58,
      "outputs": [
        {
          "output_type": "execute_result",
          "data": {
            "text/plain": [
              "[0.01869073244448485,\n",
              " 0.041841345052603306,\n",
              " 0.07827797134128743,\n",
              " 0.14971965301293833,\n",
              " 0.2069526573531978,\n",
              " 0.3059330021116556,\n",
              " 0.3495368848282626,\n",
              " 0.36734449271044234,\n",
              " 0.4296450404575317,\n",
              " 0.36595969604866047,\n",
              " 0.2591809148996993,\n",
              " 0.23364469438261168,\n",
              " 0.20681091047926298,\n",
              " 0.1730466850033721,\n",
              " 0.14987009884744348,\n",
              " 0.09202156397967966,\n",
              " 0.0806722338160857,\n",
              " 0.06869295726891526,\n",
              " 0.05574599293472588]"
            ]
          },
          "metadata": {
            "tags": []
          },
          "execution_count": 58
        }
      ]
    },
    {
      "cell_type": "code",
      "metadata": {
        "id": "ZhKQ_AgxMM4P",
        "colab_type": "code",
        "colab": {
          "base_uri": "https://localhost:8080/",
          "height": 354
        },
        "outputId": "cac7d768-91d2-4e24-8009-f82605b09df6"
      },
      "source": [
        "r_"
      ],
      "execution_count": 59,
      "outputs": [
        {
          "output_type": "execute_result",
          "data": {
            "text/plain": [
              "[0.00396745769644022,\n",
              " 0.011818457567886558,\n",
              " 0.024999203348234585,\n",
              " 0.04964941377735379,\n",
              " 0.08913803429645396,\n",
              " 0.16953317655221448,\n",
              " 0.26787546167805676,\n",
              " 0.3753376788266116,\n",
              " 0.49608378331203057,\n",
              " 0.5252637936188093,\n",
              " 0.6556291140342954,\n",
              " 0.6737309037969698,\n",
              " 0.75353059475122,\n",
              " 0.7509753681838155,\n",
              " 0.8072652493205814,\n",
              " 0.9628080820003717,\n",
              " 1.024823936694855,\n",
              " 1.0447221551836376,\n",
              " 0.976476163127081]"
            ]
          },
          "metadata": {
            "tags": []
          },
          "execution_count": 59
        }
      ]
    },
    {
      "cell_type": "code",
      "metadata": {
        "id": "xkUBPPrCMadh",
        "colab_type": "code",
        "colab": {
          "base_uri": "https://localhost:8080/",
          "height": 354
        },
        "outputId": "01e3389b-0d1b-401b-a782-c2ab8cf539dc"
      },
      "source": [
        "s = susceptible(i_ ,r_)\n",
        "s"
      ],
      "execution_count": 60,
      "outputs": [
        {
          "output_type": "execute_result",
          "data": {
            "text/plain": [
              "[0.9773418098590749,\n",
              " 0.9463401973795101,\n",
              " 0.896722825310478,\n",
              " 0.8006309332097079,\n",
              " 0.7039093083503483,\n",
              " 0.52453382133613,\n",
              " 0.3825876534936806,\n",
              " 0.25731782846294604,\n",
              " 0.07427117623043772,\n",
              " 0.10877651033253033,\n",
              " 0.08518997106600534,\n",
              " 0.09262440182041853,\n",
              " 0.039658494769516994,\n",
              " 0.07597794681281245,\n",
              " 0.042864651831975076,\n",
              " -0.054829645980051356,\n",
              " -0.10549617051094073,\n",
              " -0.11341511245255287,\n",
              " -0.032222156061806895]"
            ]
          },
          "metadata": {
            "tags": []
          },
          "execution_count": 60
        }
      ]
    },
    {
      "cell_type": "code",
      "metadata": {
        "id": "qwlRIf3LMNjf",
        "colab_type": "code",
        "colab": {
          "base_uri": "https://localhost:8080/",
          "height": 280
        },
        "outputId": "22d527a5-2c23-4b19-ec63-85ca1f433e5f"
      },
      "source": [
        "plt.plot(times[1::],yobs, marker='o', linestyle='none')\n",
        "plt.plot(times, y[:,0], color='C0', alpha=0.5, label=f'$I(t)$')\n",
        "plt.plot(times, y[:,1], color ='C1', alpha=0.5, label=f'$R(t)$')\n",
        "plt.plot(times, susceptible(y[:,0], y[:,1]), color ='C2', alpha=0.5, label=f'$S(t)$')\n",
        "plt.legend()"
      ],
      "execution_count": 61,
      "outputs": [
        {
          "output_type": "execute_result",
          "data": {
            "text/plain": [
              "<matplotlib.legend.Legend at 0x7ff71c983e80>"
            ]
          },
          "metadata": {
            "tags": []
          },
          "execution_count": 61
        },
        {
          "output_type": "display_data",
          "data": {
            "image/png": "[encoded data removed]",
            "text/plain": [
              "<Figure size 432x288 with 1 Axes>"
            ]
          },
          "metadata": {
            "tags": []
          }
        }
      ]
    },
    {
      "cell_type": "markdown",
      "metadata": {
        "id": "yZYriP8kNJXx",
        "colab_type": "text"
      },
      "source": [
        "\n",
        "Driven by rising infections, susceptible population diminishes due to acquired immunity, which controls the infection and brings it down to zero after it reaches a peak of 40% of the population, for the values of the parameters $\\beta$ and $\\gamma$ that we picked. Very sobering.\n",
        "\n",
        "Our China data though is only up to timepoint 2 in the graph above. We have yet to observe the infection to come down. All we observe in China is that the number of new infections is coming down to almost zero, which means we are approaching the peak of the Infected curve $I(t)$.\n",
        "\n"
      ]
    },
    {
      "cell_type": "code",
      "metadata": {
        "id": "IOJEMav6NATo",
        "colab_type": "code",
        "colab": {}
      },
      "source": [
        ""
      ],
      "execution_count": 0,
      "outputs": []
    }
  ]
}